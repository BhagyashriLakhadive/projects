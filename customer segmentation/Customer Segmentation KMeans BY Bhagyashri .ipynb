{
 "cells": [
  {
   "cell_type": "markdown",
   "id": "0912d579",
   "metadata": {},
   "source": [
    "## `Problem Statement :\n",
    "### An online retail store is trying to understand the various customer purchase patterns for their firm, you are required to give enough evidence based insights to provide the same.\n"
   ]
  },
  {
   "cell_type": "markdown",
   "id": "1a39b549",
   "metadata": {},
   "source": [
    "## Project Objective\n",
    "The objective of this project is to\n",
    "1. Using the above data, find useful insights about the customer purchasing history that can be an added advantage for the online retailer.\n",
    "2. Segment the customers based on their purchasing behavior."
   ]
  },
  {
   "cell_type": "code",
   "execution_count": 1,
   "id": "a2edf9b2",
   "metadata": {},
   "outputs": [],
   "source": [
    "#importing the neccessary libraries \n",
    "import numpy as np # numerical operations  \n",
    "import pandas as pd # Data Manipulation purposes \n",
    "import matplotlib.pyplot as plt \n",
    "import seaborn as sns # Data Visualisation \n",
    "import warnings \n",
    "warnings.filterwarnings('ignore')\n",
    "%matplotlib inline"
   ]
  },
  {
   "cell_type": "code",
   "execution_count": 2,
   "id": "eddc331b",
   "metadata": {},
   "outputs": [],
   "source": [
    "#import the data using pandas \n",
    "# Specify the correct encoding\n",
    "encoding = 'latin-1'  # Replace with the actual encoding of your data\n",
    "\n",
    "# Read the file using pandas\n",
    "try:\n",
    "    data = pd.read_csv('OnlineRetail (3).csv', encoding=encoding)\n",
    "except UnicodeDecodeError:\n",
    "    print(\"Error: Unable to decode the file with the specified encoding.\")\n"
   ]
  },
  {
   "cell_type": "code",
   "execution_count": 3,
   "id": "36f1e12a",
   "metadata": {},
   "outputs": [
    {
     "data": {
      "text/html": [
       "<div>\n",
       "<style scoped>\n",
       "    .dataframe tbody tr th:only-of-type {\n",
       "        vertical-align: middle;\n",
       "    }\n",
       "\n",
       "    .dataframe tbody tr th {\n",
       "        vertical-align: top;\n",
       "    }\n",
       "\n",
       "    .dataframe thead th {\n",
       "        text-align: right;\n",
       "    }\n",
       "</style>\n",
       "<table border=\"1\" class=\"dataframe\">\n",
       "  <thead>\n",
       "    <tr style=\"text-align: right;\">\n",
       "      <th></th>\n",
       "      <th>InvoiceNo</th>\n",
       "      <th>StockCode</th>\n",
       "      <th>Description</th>\n",
       "      <th>Quantity</th>\n",
       "      <th>InvoiceDate</th>\n",
       "      <th>UnitPrice</th>\n",
       "      <th>CustomerID</th>\n",
       "      <th>Country</th>\n",
       "    </tr>\n",
       "  </thead>\n",
       "  <tbody>\n",
       "    <tr>\n",
       "      <th>0</th>\n",
       "      <td>536365</td>\n",
       "      <td>85123A</td>\n",
       "      <td>WHITE HANGING HEART T-LIGHT HOLDER</td>\n",
       "      <td>6</td>\n",
       "      <td>12/1/2010 8:26</td>\n",
       "      <td>2.55</td>\n",
       "      <td>17850.0</td>\n",
       "      <td>United Kingdom</td>\n",
       "    </tr>\n",
       "    <tr>\n",
       "      <th>1</th>\n",
       "      <td>536365</td>\n",
       "      <td>71053</td>\n",
       "      <td>WHITE METAL LANTERN</td>\n",
       "      <td>6</td>\n",
       "      <td>12/1/2010 8:26</td>\n",
       "      <td>3.39</td>\n",
       "      <td>17850.0</td>\n",
       "      <td>United Kingdom</td>\n",
       "    </tr>\n",
       "    <tr>\n",
       "      <th>2</th>\n",
       "      <td>536365</td>\n",
       "      <td>84406B</td>\n",
       "      <td>CREAM CUPID HEARTS COAT HANGER</td>\n",
       "      <td>8</td>\n",
       "      <td>12/1/2010 8:26</td>\n",
       "      <td>2.75</td>\n",
       "      <td>17850.0</td>\n",
       "      <td>United Kingdom</td>\n",
       "    </tr>\n",
       "    <tr>\n",
       "      <th>3</th>\n",
       "      <td>536365</td>\n",
       "      <td>84029G</td>\n",
       "      <td>KNITTED UNION FLAG HOT WATER BOTTLE</td>\n",
       "      <td>6</td>\n",
       "      <td>12/1/2010 8:26</td>\n",
       "      <td>3.39</td>\n",
       "      <td>17850.0</td>\n",
       "      <td>United Kingdom</td>\n",
       "    </tr>\n",
       "    <tr>\n",
       "      <th>4</th>\n",
       "      <td>536365</td>\n",
       "      <td>84029E</td>\n",
       "      <td>RED WOOLLY HOTTIE WHITE HEART.</td>\n",
       "      <td>6</td>\n",
       "      <td>12/1/2010 8:26</td>\n",
       "      <td>3.39</td>\n",
       "      <td>17850.0</td>\n",
       "      <td>United Kingdom</td>\n",
       "    </tr>\n",
       "    <tr>\n",
       "      <th>5</th>\n",
       "      <td>536365</td>\n",
       "      <td>22752</td>\n",
       "      <td>SET 7 BABUSHKA NESTING BOXES</td>\n",
       "      <td>2</td>\n",
       "      <td>12/1/2010 8:26</td>\n",
       "      <td>7.65</td>\n",
       "      <td>17850.0</td>\n",
       "      <td>United Kingdom</td>\n",
       "    </tr>\n",
       "    <tr>\n",
       "      <th>6</th>\n",
       "      <td>536365</td>\n",
       "      <td>21730</td>\n",
       "      <td>GLASS STAR FROSTED T-LIGHT HOLDER</td>\n",
       "      <td>6</td>\n",
       "      <td>12/1/2010 8:26</td>\n",
       "      <td>4.25</td>\n",
       "      <td>17850.0</td>\n",
       "      <td>United Kingdom</td>\n",
       "    </tr>\n",
       "    <tr>\n",
       "      <th>7</th>\n",
       "      <td>536366</td>\n",
       "      <td>22633</td>\n",
       "      <td>HAND WARMER UNION JACK</td>\n",
       "      <td>6</td>\n",
       "      <td>12/1/2010 8:28</td>\n",
       "      <td>1.85</td>\n",
       "      <td>17850.0</td>\n",
       "      <td>United Kingdom</td>\n",
       "    </tr>\n",
       "    <tr>\n",
       "      <th>8</th>\n",
       "      <td>536366</td>\n",
       "      <td>22632</td>\n",
       "      <td>HAND WARMER RED POLKA DOT</td>\n",
       "      <td>6</td>\n",
       "      <td>12/1/2010 8:28</td>\n",
       "      <td>1.85</td>\n",
       "      <td>17850.0</td>\n",
       "      <td>United Kingdom</td>\n",
       "    </tr>\n",
       "    <tr>\n",
       "      <th>9</th>\n",
       "      <td>536367</td>\n",
       "      <td>84879</td>\n",
       "      <td>ASSORTED COLOUR BIRD ORNAMENT</td>\n",
       "      <td>32</td>\n",
       "      <td>12/1/2010 8:34</td>\n",
       "      <td>1.69</td>\n",
       "      <td>13047.0</td>\n",
       "      <td>United Kingdom</td>\n",
       "    </tr>\n",
       "  </tbody>\n",
       "</table>\n",
       "</div>"
      ],
      "text/plain": [
       "  InvoiceNo StockCode                          Description  Quantity  \\\n",
       "0    536365    85123A   WHITE HANGING HEART T-LIGHT HOLDER         6   \n",
       "1    536365     71053                  WHITE METAL LANTERN         6   \n",
       "2    536365    84406B       CREAM CUPID HEARTS COAT HANGER         8   \n",
       "3    536365    84029G  KNITTED UNION FLAG HOT WATER BOTTLE         6   \n",
       "4    536365    84029E       RED WOOLLY HOTTIE WHITE HEART.         6   \n",
       "5    536365     22752         SET 7 BABUSHKA NESTING BOXES         2   \n",
       "6    536365     21730    GLASS STAR FROSTED T-LIGHT HOLDER         6   \n",
       "7    536366     22633               HAND WARMER UNION JACK         6   \n",
       "8    536366     22632            HAND WARMER RED POLKA DOT         6   \n",
       "9    536367     84879        ASSORTED COLOUR BIRD ORNAMENT        32   \n",
       "\n",
       "      InvoiceDate  UnitPrice  CustomerID         Country  \n",
       "0  12/1/2010 8:26       2.55     17850.0  United Kingdom  \n",
       "1  12/1/2010 8:26       3.39     17850.0  United Kingdom  \n",
       "2  12/1/2010 8:26       2.75     17850.0  United Kingdom  \n",
       "3  12/1/2010 8:26       3.39     17850.0  United Kingdom  \n",
       "4  12/1/2010 8:26       3.39     17850.0  United Kingdom  \n",
       "5  12/1/2010 8:26       7.65     17850.0  United Kingdom  \n",
       "6  12/1/2010 8:26       4.25     17850.0  United Kingdom  \n",
       "7  12/1/2010 8:28       1.85     17850.0  United Kingdom  \n",
       "8  12/1/2010 8:28       1.85     17850.0  United Kingdom  \n",
       "9  12/1/2010 8:34       1.69     13047.0  United Kingdom  "
      ]
     },
     "execution_count": 3,
     "metadata": {},
     "output_type": "execute_result"
    }
   ],
   "source": [
    "# how the data looks like?\n",
    "data.head(10)"
   ]
  },
  {
   "cell_type": "code",
   "execution_count": 4,
   "id": "ed0e3b4e",
   "metadata": {
    "scrolled": false
   },
   "outputs": [
    {
     "data": {
      "text/plain": [
       "WHITE HANGING HEART T-LIGHT HOLDER     2369\n",
       "REGENCY CAKESTAND 3 TIER               2200\n",
       "JUMBO BAG RED RETROSPOT                2159\n",
       "PARTY BUNTING                          1727\n",
       "LUNCH BAG RED RETROSPOT                1638\n",
       "                                       ... \n",
       "Missing                                   1\n",
       "historic computer difference?....se       1\n",
       "DUSTY PINK CHRISTMAS TREE 30CM            1\n",
       "WRAP BLUE RUSSIAN FOLKART                 1\n",
       "PINK BERTIE MOBILE PHONE CHARM            1\n",
       "Name: Description, Length: 4223, dtype: int64"
      ]
     },
     "execution_count": 4,
     "metadata": {},
     "output_type": "execute_result"
    }
   ],
   "source": [
    "# Data Description \n",
    "data['Description'].value_counts()"
   ]
  },
  {
   "cell_type": "markdown",
   "id": "256226dd",
   "metadata": {},
   "source": [
    "### Feature Name Description\n",
    "1. Invoice     ---->  Invoice number\n",
    "2. StockCode   ----> Product ID\n",
    "3. Description ----> Product Description\n",
    "4. Quantity    ----> Quantity of the product\n",
    "5. InvoiceDate ----> Date of the invoice\n",
    "6. Price       ---->  Price of the product per unit\n",
    "7. CustomerID  ----> Customer ID\n",
    "8. Country     ----> Region of Purchase\n"
   ]
  },
  {
   "cell_type": "code",
   "execution_count": 5,
   "id": "5a340a92",
   "metadata": {},
   "outputs": [
    {
     "data": {
      "text/plain": [
       "(541909, 8)"
      ]
     },
     "execution_count": 5,
     "metadata": {},
     "output_type": "execute_result"
    }
   ],
   "source": [
    "#shape of the data \n",
    "data.shape"
   ]
  },
  {
   "cell_type": "code",
   "execution_count": 6,
   "id": "0e8ec84c",
   "metadata": {
    "scrolled": false
   },
   "outputs": [
    {
     "name": "stdout",
     "output_type": "stream",
     "text": [
      "<class 'pandas.core.frame.DataFrame'>\n",
      "RangeIndex: 541909 entries, 0 to 541908\n",
      "Data columns (total 8 columns):\n",
      " #   Column       Non-Null Count   Dtype  \n",
      "---  ------       --------------   -----  \n",
      " 0   InvoiceNo    541909 non-null  object \n",
      " 1   StockCode    541909 non-null  object \n",
      " 2   Description  540455 non-null  object \n",
      " 3   Quantity     541909 non-null  int64  \n",
      " 4   InvoiceDate  541909 non-null  object \n",
      " 5   UnitPrice    541909 non-null  float64\n",
      " 6   CustomerID   406829 non-null  float64\n",
      " 7   Country      541909 non-null  object \n",
      "dtypes: float64(2), int64(1), object(5)\n",
      "memory usage: 33.1+ MB\n"
     ]
    }
   ],
   "source": [
    "data.info()"
   ]
  },
  {
   "cell_type": "markdown",
   "id": "d119a45e",
   "metadata": {},
   "source": [
    "#### From the above Data information it seems we have null values in our dataset "
   ]
  },
  {
   "cell_type": "code",
   "execution_count": 7,
   "id": "6531b95a",
   "metadata": {
    "scrolled": true
   },
   "outputs": [
    {
     "data": {
      "text/plain": [
       "InvoiceNo           0\n",
       "StockCode           0\n",
       "Description      1454\n",
       "Quantity            0\n",
       "InvoiceDate         0\n",
       "UnitPrice           0\n",
       "CustomerID     135080\n",
       "Country             0\n",
       "dtype: int64"
      ]
     },
     "execution_count": 7,
     "metadata": {},
     "output_type": "execute_result"
    }
   ],
   "source": [
    "#finding null values in data \n",
    "data.isnull().sum()"
   ]
  },
  {
   "cell_type": "markdown",
   "id": "5cef347e",
   "metadata": {},
   "source": [
    "* Here in our data we have missing values in CustomerID coumn and the Description column "
   ]
  },
  {
   "cell_type": "markdown",
   "id": "9df13f95",
   "metadata": {},
   "source": [
    "### Data Preprocessing"
   ]
  },
  {
   "cell_type": "code",
   "execution_count": 8,
   "id": "12847447",
   "metadata": {
    "scrolled": false
   },
   "outputs": [
    {
     "data": {
      "text/html": [
       "<div>\n",
       "<style scoped>\n",
       "    .dataframe tbody tr th:only-of-type {\n",
       "        vertical-align: middle;\n",
       "    }\n",
       "\n",
       "    .dataframe tbody tr th {\n",
       "        vertical-align: top;\n",
       "    }\n",
       "\n",
       "    .dataframe thead th {\n",
       "        text-align: right;\n",
       "    }\n",
       "</style>\n",
       "<table border=\"1\" class=\"dataframe\">\n",
       "  <thead>\n",
       "    <tr style=\"text-align: right;\">\n",
       "      <th></th>\n",
       "      <th>Quantity</th>\n",
       "      <th>UnitPrice</th>\n",
       "      <th>CustomerID</th>\n",
       "    </tr>\n",
       "  </thead>\n",
       "  <tbody>\n",
       "    <tr>\n",
       "      <th>count</th>\n",
       "      <td>541909.000000</td>\n",
       "      <td>541909.000000</td>\n",
       "      <td>406829.000000</td>\n",
       "    </tr>\n",
       "    <tr>\n",
       "      <th>mean</th>\n",
       "      <td>9.552250</td>\n",
       "      <td>4.611114</td>\n",
       "      <td>15287.690570</td>\n",
       "    </tr>\n",
       "    <tr>\n",
       "      <th>std</th>\n",
       "      <td>218.081158</td>\n",
       "      <td>96.759853</td>\n",
       "      <td>1713.600303</td>\n",
       "    </tr>\n",
       "    <tr>\n",
       "      <th>min</th>\n",
       "      <td>-80995.000000</td>\n",
       "      <td>-11062.060000</td>\n",
       "      <td>12346.000000</td>\n",
       "    </tr>\n",
       "    <tr>\n",
       "      <th>25%</th>\n",
       "      <td>1.000000</td>\n",
       "      <td>1.250000</td>\n",
       "      <td>13953.000000</td>\n",
       "    </tr>\n",
       "    <tr>\n",
       "      <th>50%</th>\n",
       "      <td>3.000000</td>\n",
       "      <td>2.080000</td>\n",
       "      <td>15152.000000</td>\n",
       "    </tr>\n",
       "    <tr>\n",
       "      <th>75%</th>\n",
       "      <td>10.000000</td>\n",
       "      <td>4.130000</td>\n",
       "      <td>16791.000000</td>\n",
       "    </tr>\n",
       "    <tr>\n",
       "      <th>max</th>\n",
       "      <td>80995.000000</td>\n",
       "      <td>38970.000000</td>\n",
       "      <td>18287.000000</td>\n",
       "    </tr>\n",
       "  </tbody>\n",
       "</table>\n",
       "</div>"
      ],
      "text/plain": [
       "            Quantity      UnitPrice     CustomerID\n",
       "count  541909.000000  541909.000000  406829.000000\n",
       "mean        9.552250       4.611114   15287.690570\n",
       "std       218.081158      96.759853    1713.600303\n",
       "min    -80995.000000  -11062.060000   12346.000000\n",
       "25%         1.000000       1.250000   13953.000000\n",
       "50%         3.000000       2.080000   15152.000000\n",
       "75%        10.000000       4.130000   16791.000000\n",
       "max     80995.000000   38970.000000   18287.000000"
      ]
     },
     "execution_count": 8,
     "metadata": {},
     "output_type": "execute_result"
    }
   ],
   "source": [
    "#statistical description of the data \n",
    "data.describe()"
   ]
  },
  {
   "cell_type": "code",
   "execution_count": 9,
   "id": "94d6a3f4",
   "metadata": {},
   "outputs": [],
   "source": [
    "data.dropna(subset=['Description', 'CustomerID'], inplace=True)"
   ]
  },
  {
   "cell_type": "markdown",
   "id": "a1b30b59",
   "metadata": {},
   "source": [
    "* Here we are dropping null values from customerID and description culumns because customerID is unique no which is given to individual customer. If we having missing customer ids it is better that we should drop those rows from the data to make efficient analysis "
   ]
  },
  {
   "cell_type": "code",
   "execution_count": 10,
   "id": "c2b72310",
   "metadata": {
    "scrolled": true
   },
   "outputs": [
    {
     "data": {
      "text/plain": [
       "InvoiceNo      0\n",
       "StockCode      0\n",
       "Description    0\n",
       "Quantity       0\n",
       "InvoiceDate    0\n",
       "UnitPrice      0\n",
       "CustomerID     0\n",
       "Country        0\n",
       "dtype: int64"
      ]
     },
     "execution_count": 10,
     "metadata": {},
     "output_type": "execute_result"
    }
   ],
   "source": [
    "data.isnull().sum()"
   ]
  },
  {
   "cell_type": "code",
   "execution_count": 11,
   "id": "78ad2395",
   "metadata": {},
   "outputs": [
    {
     "data": {
      "text/plain": [
       "(406829, 8)"
      ]
     },
     "execution_count": 11,
     "metadata": {},
     "output_type": "execute_result"
    }
   ],
   "source": [
    "data.shape"
   ]
  },
  {
   "cell_type": "markdown",
   "id": "d308e41d",
   "metadata": {},
   "source": [
    "### EDA\n",
    "* Analyzing the distribution of purchases over time by extracting the date or time components .\n",
    "*  Identify the most popular products or product categories based on the frequency of purchase or revenue generated."
   ]
  },
  {
   "cell_type": "code",
   "execution_count": 12,
   "id": "46e061f1",
   "metadata": {},
   "outputs": [],
   "source": [
    "# Convert \"InvoiceDate\" column to datetime\n",
    "data[\"InvoiceDate\"] = pd.to_datetime(data[\"InvoiceDate\"])"
   ]
  },
  {
   "cell_type": "code",
   "execution_count": 13,
   "id": "95f98ebb",
   "metadata": {},
   "outputs": [
    {
     "data": {
      "text/plain": [
       "dtype('<M8[ns]')"
      ]
     },
     "execution_count": 13,
     "metadata": {},
     "output_type": "execute_result"
    }
   ],
   "source": [
    "data[\"InvoiceDate\"].dtypes"
   ]
  },
  {
   "cell_type": "code",
   "execution_count": 14,
   "id": "0f3c7b4b",
   "metadata": {
    "scrolled": true
   },
   "outputs": [
    {
     "data": {
      "text/plain": [
       "4372"
      ]
     },
     "execution_count": 14,
     "metadata": {},
     "output_type": "execute_result"
    }
   ],
   "source": [
    "data['CustomerID'].nunique()"
   ]
  },
  {
   "cell_type": "code",
   "execution_count": 15,
   "id": "e1c689ef",
   "metadata": {},
   "outputs": [
    {
     "data": {
      "text/plain": [
       "3896"
      ]
     },
     "execution_count": 15,
     "metadata": {},
     "output_type": "execute_result"
    }
   ],
   "source": [
    " data['Description'].nunique()"
   ]
  },
  {
   "cell_type": "code",
   "execution_count": 16,
   "id": "9683bb22",
   "metadata": {},
   "outputs": [
    {
     "data": {
      "text/plain": [
       "3684"
      ]
     },
     "execution_count": 16,
     "metadata": {},
     "output_type": "execute_result"
    }
   ],
   "source": [
    "data['StockCode'].nunique()"
   ]
  },
  {
   "cell_type": "code",
   "execution_count": 17,
   "id": "9eb33b42",
   "metadata": {
    "scrolled": true
   },
   "outputs": [
    {
     "data": {
      "text/plain": [
       "22190"
      ]
     },
     "execution_count": 17,
     "metadata": {},
     "output_type": "execute_result"
    }
   ],
   "source": [
    "data['InvoiceNo'].nunique()"
   ]
  },
  {
   "cell_type": "code",
   "execution_count": 18,
   "id": "6678f904",
   "metadata": {
    "scrolled": true
   },
   "outputs": [
    {
     "data": {
      "text/plain": [
       "array(['United Kingdom', 'France', 'Australia', 'Netherlands', 'Germany',\n",
       "       'Norway', 'EIRE', 'Switzerland', 'Spain', 'Poland', 'Portugal',\n",
       "       'Italy', 'Belgium', 'Lithuania', 'Japan', 'Iceland',\n",
       "       'Channel Islands', 'Denmark', 'Cyprus', 'Sweden', 'Austria',\n",
       "       'Israel', 'Finland', 'Greece', 'Singapore', 'Lebanon',\n",
       "       'United Arab Emirates', 'Saudi Arabia', 'Czech Republic', 'Canada',\n",
       "       'Unspecified', 'Brazil', 'USA', 'European Community', 'Bahrain',\n",
       "       'Malta', 'RSA'], dtype=object)"
      ]
     },
     "execution_count": 18,
     "metadata": {},
     "output_type": "execute_result"
    }
   ],
   "source": [
    "data['Country'].unique()"
   ]
  },
  {
   "cell_type": "code",
   "execution_count": 19,
   "id": "59612ead",
   "metadata": {},
   "outputs": [],
   "source": [
    "data = data[~data['InvoiceNo'].str.startswith('C')]"
   ]
  },
  {
   "cell_type": "code",
   "execution_count": 20,
   "id": "e198f896",
   "metadata": {},
   "outputs": [
    {
     "data": {
      "text/plain": [
       "(397924, 8)"
      ]
     },
     "execution_count": 20,
     "metadata": {},
     "output_type": "execute_result"
    }
   ],
   "source": [
    "data.shape"
   ]
  },
  {
   "cell_type": "code",
   "execution_count": 21,
   "id": "485d39e9",
   "metadata": {},
   "outputs": [
    {
     "data": {
      "text/plain": [
       "40"
      ]
     },
     "execution_count": 21,
     "metadata": {},
     "output_type": "execute_result"
    }
   ],
   "source": [
    "# Checking how many values are present for unitprice==0\n",
    "# almost 40 values are present so will drop this values\n",
    "len(data[data['UnitPrice']==0])"
   ]
  },
  {
   "cell_type": "code",
   "execution_count": 22,
   "id": "45805130",
   "metadata": {},
   "outputs": [
    {
     "data": {
      "text/html": [
       "<div>\n",
       "<style scoped>\n",
       "    .dataframe tbody tr th:only-of-type {\n",
       "        vertical-align: middle;\n",
       "    }\n",
       "\n",
       "    .dataframe tbody tr th {\n",
       "        vertical-align: top;\n",
       "    }\n",
       "\n",
       "    .dataframe thead th {\n",
       "        text-align: right;\n",
       "    }\n",
       "</style>\n",
       "<table border=\"1\" class=\"dataframe\">\n",
       "  <thead>\n",
       "    <tr style=\"text-align: right;\">\n",
       "      <th></th>\n",
       "      <th>InvoiceNo</th>\n",
       "      <th>StockCode</th>\n",
       "      <th>Description</th>\n",
       "      <th>Quantity</th>\n",
       "      <th>InvoiceDate</th>\n",
       "      <th>UnitPrice</th>\n",
       "      <th>CustomerID</th>\n",
       "      <th>Country</th>\n",
       "    </tr>\n",
       "  </thead>\n",
       "  <tbody>\n",
       "    <tr>\n",
       "      <th>0</th>\n",
       "      <td>536365</td>\n",
       "      <td>85123A</td>\n",
       "      <td>WHITE HANGING HEART T-LIGHT HOLDER</td>\n",
       "      <td>6</td>\n",
       "      <td>2010-12-01 08:26:00</td>\n",
       "      <td>2.55</td>\n",
       "      <td>17850.0</td>\n",
       "      <td>United Kingdom</td>\n",
       "    </tr>\n",
       "    <tr>\n",
       "      <th>1</th>\n",
       "      <td>536365</td>\n",
       "      <td>71053</td>\n",
       "      <td>WHITE METAL LANTERN</td>\n",
       "      <td>6</td>\n",
       "      <td>2010-12-01 08:26:00</td>\n",
       "      <td>3.39</td>\n",
       "      <td>17850.0</td>\n",
       "      <td>United Kingdom</td>\n",
       "    </tr>\n",
       "    <tr>\n",
       "      <th>2</th>\n",
       "      <td>536365</td>\n",
       "      <td>84406B</td>\n",
       "      <td>CREAM CUPID HEARTS COAT HANGER</td>\n",
       "      <td>8</td>\n",
       "      <td>2010-12-01 08:26:00</td>\n",
       "      <td>2.75</td>\n",
       "      <td>17850.0</td>\n",
       "      <td>United Kingdom</td>\n",
       "    </tr>\n",
       "    <tr>\n",
       "      <th>3</th>\n",
       "      <td>536365</td>\n",
       "      <td>84029G</td>\n",
       "      <td>KNITTED UNION FLAG HOT WATER BOTTLE</td>\n",
       "      <td>6</td>\n",
       "      <td>2010-12-01 08:26:00</td>\n",
       "      <td>3.39</td>\n",
       "      <td>17850.0</td>\n",
       "      <td>United Kingdom</td>\n",
       "    </tr>\n",
       "    <tr>\n",
       "      <th>4</th>\n",
       "      <td>536365</td>\n",
       "      <td>84029E</td>\n",
       "      <td>RED WOOLLY HOTTIE WHITE HEART.</td>\n",
       "      <td>6</td>\n",
       "      <td>2010-12-01 08:26:00</td>\n",
       "      <td>3.39</td>\n",
       "      <td>17850.0</td>\n",
       "      <td>United Kingdom</td>\n",
       "    </tr>\n",
       "  </tbody>\n",
       "</table>\n",
       "</div>"
      ],
      "text/plain": [
       "  InvoiceNo StockCode                          Description  Quantity  \\\n",
       "0    536365    85123A   WHITE HANGING HEART T-LIGHT HOLDER         6   \n",
       "1    536365     71053                  WHITE METAL LANTERN         6   \n",
       "2    536365    84406B       CREAM CUPID HEARTS COAT HANGER         8   \n",
       "3    536365    84029G  KNITTED UNION FLAG HOT WATER BOTTLE         6   \n",
       "4    536365    84029E       RED WOOLLY HOTTIE WHITE HEART.         6   \n",
       "\n",
       "          InvoiceDate  UnitPrice  CustomerID         Country  \n",
       "0 2010-12-01 08:26:00       2.55     17850.0  United Kingdom  \n",
       "1 2010-12-01 08:26:00       3.39     17850.0  United Kingdom  \n",
       "2 2010-12-01 08:26:00       2.75     17850.0  United Kingdom  \n",
       "3 2010-12-01 08:26:00       3.39     17850.0  United Kingdom  \n",
       "4 2010-12-01 08:26:00       3.39     17850.0  United Kingdom  "
      ]
     },
     "execution_count": 22,
     "metadata": {},
     "output_type": "execute_result"
    }
   ],
   "source": [
    "# taking unitprice values greater than 0.\n",
    "data=data[data['UnitPrice']>0]\n",
    "data.head()"
   ]
  },
  {
   "cell_type": "code",
   "execution_count": 23,
   "id": "c3ce3307",
   "metadata": {},
   "outputs": [
    {
     "data": {
      "text/plain": [
       "(397884, 8)"
      ]
     },
     "execution_count": 23,
     "metadata": {},
     "output_type": "execute_result"
    }
   ],
   "source": [
    "data.shape"
   ]
  },
  {
   "cell_type": "code",
   "execution_count": 24,
   "id": "478f88d5",
   "metadata": {},
   "outputs": [],
   "source": [
    "# Converting InvoiceDate to datetime.\n",
    "data['InvoiceDate'] = pd.to_datetime(data['InvoiceDate'], format = '%d-%m-%Y %H:%M')"
   ]
  },
  {
   "cell_type": "code",
   "execution_count": 25,
   "id": "ca90e781",
   "metadata": {},
   "outputs": [],
   "source": [
    "data[\"year\"] = data[\"InvoiceDate\"].apply(lambda x: x.year)\n",
    "data[\"Month_num\"] = data[\"InvoiceDate\"].apply(lambda x: x.month)\n",
    "data[\"Day_num\"] = data[\"InvoiceDate\"].apply(lambda x: x.day)\n",
    "data[\"hour\"] = data[\"InvoiceDate\"].apply(lambda x: x.hour)\n",
    "data[\"minute\"] = data[\"InvoiceDate\"].apply(lambda x: x.minute)"
   ]
  },
  {
   "cell_type": "code",
   "execution_count": 26,
   "id": "4833039a",
   "metadata": {},
   "outputs": [],
   "source": [
    "# extracting month from the Invoice date\n",
    "data['Month']=data['InvoiceDate'].dt.month_name()"
   ]
  },
  {
   "cell_type": "code",
   "execution_count": 27,
   "id": "6d646d09",
   "metadata": {},
   "outputs": [],
   "source": [
    "# extracting day from the Invoice date\n",
    "data['Day']=data['InvoiceDate'].dt.day_name()"
   ]
  },
  {
   "cell_type": "code",
   "execution_count": 28,
   "id": "10e04cca",
   "metadata": {},
   "outputs": [],
   "source": [
    "data['TotalAmount']=data['Quantity']*data['UnitPrice']"
   ]
  },
  {
   "cell_type": "code",
   "execution_count": 29,
   "id": "58938eb9",
   "metadata": {},
   "outputs": [
    {
     "data": {
      "text/html": [
       "<div>\n",
       "<style scoped>\n",
       "    .dataframe tbody tr th:only-of-type {\n",
       "        vertical-align: middle;\n",
       "    }\n",
       "\n",
       "    .dataframe tbody tr th {\n",
       "        vertical-align: top;\n",
       "    }\n",
       "\n",
       "    .dataframe thead th {\n",
       "        text-align: right;\n",
       "    }\n",
       "</style>\n",
       "<table border=\"1\" class=\"dataframe\">\n",
       "  <thead>\n",
       "    <tr style=\"text-align: right;\">\n",
       "      <th></th>\n",
       "      <th>InvoiceNo</th>\n",
       "      <th>StockCode</th>\n",
       "      <th>Description</th>\n",
       "      <th>Quantity</th>\n",
       "      <th>InvoiceDate</th>\n",
       "      <th>UnitPrice</th>\n",
       "      <th>CustomerID</th>\n",
       "      <th>Country</th>\n",
       "      <th>year</th>\n",
       "      <th>Month_num</th>\n",
       "      <th>Day_num</th>\n",
       "      <th>hour</th>\n",
       "      <th>minute</th>\n",
       "      <th>Month</th>\n",
       "      <th>Day</th>\n",
       "      <th>TotalAmount</th>\n",
       "    </tr>\n",
       "  </thead>\n",
       "  <tbody>\n",
       "    <tr>\n",
       "      <th>0</th>\n",
       "      <td>536365</td>\n",
       "      <td>85123A</td>\n",
       "      <td>WHITE HANGING HEART T-LIGHT HOLDER</td>\n",
       "      <td>6</td>\n",
       "      <td>2010-12-01 08:26:00</td>\n",
       "      <td>2.55</td>\n",
       "      <td>17850.0</td>\n",
       "      <td>United Kingdom</td>\n",
       "      <td>2010</td>\n",
       "      <td>12</td>\n",
       "      <td>1</td>\n",
       "      <td>8</td>\n",
       "      <td>26</td>\n",
       "      <td>December</td>\n",
       "      <td>Wednesday</td>\n",
       "      <td>15.30</td>\n",
       "    </tr>\n",
       "    <tr>\n",
       "      <th>1</th>\n",
       "      <td>536365</td>\n",
       "      <td>71053</td>\n",
       "      <td>WHITE METAL LANTERN</td>\n",
       "      <td>6</td>\n",
       "      <td>2010-12-01 08:26:00</td>\n",
       "      <td>3.39</td>\n",
       "      <td>17850.0</td>\n",
       "      <td>United Kingdom</td>\n",
       "      <td>2010</td>\n",
       "      <td>12</td>\n",
       "      <td>1</td>\n",
       "      <td>8</td>\n",
       "      <td>26</td>\n",
       "      <td>December</td>\n",
       "      <td>Wednesday</td>\n",
       "      <td>20.34</td>\n",
       "    </tr>\n",
       "    <tr>\n",
       "      <th>2</th>\n",
       "      <td>536365</td>\n",
       "      <td>84406B</td>\n",
       "      <td>CREAM CUPID HEARTS COAT HANGER</td>\n",
       "      <td>8</td>\n",
       "      <td>2010-12-01 08:26:00</td>\n",
       "      <td>2.75</td>\n",
       "      <td>17850.0</td>\n",
       "      <td>United Kingdom</td>\n",
       "      <td>2010</td>\n",
       "      <td>12</td>\n",
       "      <td>1</td>\n",
       "      <td>8</td>\n",
       "      <td>26</td>\n",
       "      <td>December</td>\n",
       "      <td>Wednesday</td>\n",
       "      <td>22.00</td>\n",
       "    </tr>\n",
       "    <tr>\n",
       "      <th>3</th>\n",
       "      <td>536365</td>\n",
       "      <td>84029G</td>\n",
       "      <td>KNITTED UNION FLAG HOT WATER BOTTLE</td>\n",
       "      <td>6</td>\n",
       "      <td>2010-12-01 08:26:00</td>\n",
       "      <td>3.39</td>\n",
       "      <td>17850.0</td>\n",
       "      <td>United Kingdom</td>\n",
       "      <td>2010</td>\n",
       "      <td>12</td>\n",
       "      <td>1</td>\n",
       "      <td>8</td>\n",
       "      <td>26</td>\n",
       "      <td>December</td>\n",
       "      <td>Wednesday</td>\n",
       "      <td>20.34</td>\n",
       "    </tr>\n",
       "    <tr>\n",
       "      <th>4</th>\n",
       "      <td>536365</td>\n",
       "      <td>84029E</td>\n",
       "      <td>RED WOOLLY HOTTIE WHITE HEART.</td>\n",
       "      <td>6</td>\n",
       "      <td>2010-12-01 08:26:00</td>\n",
       "      <td>3.39</td>\n",
       "      <td>17850.0</td>\n",
       "      <td>United Kingdom</td>\n",
       "      <td>2010</td>\n",
       "      <td>12</td>\n",
       "      <td>1</td>\n",
       "      <td>8</td>\n",
       "      <td>26</td>\n",
       "      <td>December</td>\n",
       "      <td>Wednesday</td>\n",
       "      <td>20.34</td>\n",
       "    </tr>\n",
       "  </tbody>\n",
       "</table>\n",
       "</div>"
      ],
      "text/plain": [
       "  InvoiceNo StockCode                          Description  Quantity  \\\n",
       "0    536365    85123A   WHITE HANGING HEART T-LIGHT HOLDER         6   \n",
       "1    536365     71053                  WHITE METAL LANTERN         6   \n",
       "2    536365    84406B       CREAM CUPID HEARTS COAT HANGER         8   \n",
       "3    536365    84029G  KNITTED UNION FLAG HOT WATER BOTTLE         6   \n",
       "4    536365    84029E       RED WOOLLY HOTTIE WHITE HEART.         6   \n",
       "\n",
       "          InvoiceDate  UnitPrice  CustomerID         Country  year  Month_num  \\\n",
       "0 2010-12-01 08:26:00       2.55     17850.0  United Kingdom  2010         12   \n",
       "1 2010-12-01 08:26:00       3.39     17850.0  United Kingdom  2010         12   \n",
       "2 2010-12-01 08:26:00       2.75     17850.0  United Kingdom  2010         12   \n",
       "3 2010-12-01 08:26:00       3.39     17850.0  United Kingdom  2010         12   \n",
       "4 2010-12-01 08:26:00       3.39     17850.0  United Kingdom  2010         12   \n",
       "\n",
       "   Day_num  hour  minute     Month        Day  TotalAmount  \n",
       "0        1     8      26  December  Wednesday        15.30  \n",
       "1        1     8      26  December  Wednesday        20.34  \n",
       "2        1     8      26  December  Wednesday        22.00  \n",
       "3        1     8      26  December  Wednesday        20.34  \n",
       "4        1     8      26  December  Wednesday        20.34  "
      ]
     },
     "execution_count": 29,
     "metadata": {},
     "output_type": "execute_result"
    }
   ],
   "source": [
    "data.head()"
   ]
  },
  {
   "cell_type": "code",
   "execution_count": 30,
   "id": "740e1fe5",
   "metadata": {
    "scrolled": true
   },
   "outputs": [
    {
     "data": {
      "text/html": [
       "<div>\n",
       "<style scoped>\n",
       "    .dataframe tbody tr th:only-of-type {\n",
       "        vertical-align: middle;\n",
       "    }\n",
       "\n",
       "    .dataframe tbody tr th {\n",
       "        vertical-align: top;\n",
       "    }\n",
       "\n",
       "    .dataframe thead th {\n",
       "        text-align: right;\n",
       "    }\n",
       "</style>\n",
       "<table border=\"1\" class=\"dataframe\">\n",
       "  <thead>\n",
       "    <tr style=\"text-align: right;\">\n",
       "      <th></th>\n",
       "      <th>Product_name</th>\n",
       "      <th>Count</th>\n",
       "    </tr>\n",
       "  </thead>\n",
       "  <tbody>\n",
       "    <tr>\n",
       "      <th>0</th>\n",
       "      <td>WHITE HANGING HEART T-LIGHT HOLDER</td>\n",
       "      <td>2028</td>\n",
       "    </tr>\n",
       "    <tr>\n",
       "      <th>1</th>\n",
       "      <td>REGENCY CAKESTAND 3 TIER</td>\n",
       "      <td>1723</td>\n",
       "    </tr>\n",
       "    <tr>\n",
       "      <th>2</th>\n",
       "      <td>JUMBO BAG RED RETROSPOT</td>\n",
       "      <td>1618</td>\n",
       "    </tr>\n",
       "    <tr>\n",
       "      <th>3</th>\n",
       "      <td>ASSORTED COLOUR BIRD ORNAMENT</td>\n",
       "      <td>1408</td>\n",
       "    </tr>\n",
       "    <tr>\n",
       "      <th>4</th>\n",
       "      <td>PARTY BUNTING</td>\n",
       "      <td>1396</td>\n",
       "    </tr>\n",
       "    <tr>\n",
       "      <th>5</th>\n",
       "      <td>LUNCH BAG RED RETROSPOT</td>\n",
       "      <td>1316</td>\n",
       "    </tr>\n",
       "    <tr>\n",
       "      <th>6</th>\n",
       "      <td>SET OF 3 CAKE TINS PANTRY DESIGN</td>\n",
       "      <td>1159</td>\n",
       "    </tr>\n",
       "    <tr>\n",
       "      <th>7</th>\n",
       "      <td>LUNCH BAG  BLACK SKULL.</td>\n",
       "      <td>1105</td>\n",
       "    </tr>\n",
       "    <tr>\n",
       "      <th>8</th>\n",
       "      <td>POSTAGE</td>\n",
       "      <td>1099</td>\n",
       "    </tr>\n",
       "    <tr>\n",
       "      <th>9</th>\n",
       "      <td>PACK OF 72 RETROSPOT CAKE CASES</td>\n",
       "      <td>1068</td>\n",
       "    </tr>\n",
       "  </tbody>\n",
       "</table>\n",
       "</div>"
      ],
      "text/plain": [
       "                         Product_name  Count\n",
       "0  WHITE HANGING HEART T-LIGHT HOLDER   2028\n",
       "1            REGENCY CAKESTAND 3 TIER   1723\n",
       "2             JUMBO BAG RED RETROSPOT   1618\n",
       "3       ASSORTED COLOUR BIRD ORNAMENT   1408\n",
       "4                       PARTY BUNTING   1396\n",
       "5             LUNCH BAG RED RETROSPOT   1316\n",
       "6   SET OF 3 CAKE TINS PANTRY DESIGN    1159\n",
       "7             LUNCH BAG  BLACK SKULL.   1105\n",
       "8                             POSTAGE   1099\n",
       "9     PACK OF 72 RETROSPOT CAKE CASES   1068"
      ]
     },
     "execution_count": 30,
     "metadata": {},
     "output_type": "execute_result"
    }
   ],
   "source": [
    "top_10_product=data['Description'].value_counts().reset_index().rename(columns={'index':'Product_name','Description':'Count'}).head(10)\n",
    "top_10_product"
   ]
  },
  {
   "cell_type": "markdown",
   "id": "69f97bfe",
   "metadata": {},
   "source": [
    "* Here we have the top 10 highest selling products"
   ]
  },
  {
   "cell_type": "code",
   "execution_count": 31,
   "id": "9cfc49e6",
   "metadata": {},
   "outputs": [
    {
     "data": {
      "image/png": "[encoded data removed]",
      "text/plain": [
       "<Figure size 864x432 with 1 Axes>"
      ]
     },
     "metadata": {
      "needs_background": "light"
     },
     "output_type": "display_data"
    }
   ],
   "source": [
    "plt.figure(figsize=(12, 6))\n",
    "sns.barplot(x = top_10_product['Product_name'], y = top_10_product['Count'])\n",
    "plt.xlabel('top_10_product')\n",
    "plt.ylabel(' Count')\n",
    "plt.title('top_10_products count')\n",
    "plt.xticks(rotation=90)\n",
    "plt.tight_layout()\n",
    "plt.show()"
   ]
  },
  {
   "cell_type": "code",
   "execution_count": 32,
   "id": "0ebcf02b",
   "metadata": {},
   "outputs": [
    {
     "data": {
      "text/html": [
       "<div>\n",
       "<style scoped>\n",
       "    .dataframe tbody tr th:only-of-type {\n",
       "        vertical-align: middle;\n",
       "    }\n",
       "\n",
       "    .dataframe tbody tr th {\n",
       "        vertical-align: top;\n",
       "    }\n",
       "\n",
       "    .dataframe thead th {\n",
       "        text-align: right;\n",
       "    }\n",
       "</style>\n",
       "<table border=\"1\" class=\"dataframe\">\n",
       "  <thead>\n",
       "    <tr style=\"text-align: right;\">\n",
       "      <th></th>\n",
       "      <th>Product_name</th>\n",
       "      <th>Count</th>\n",
       "    </tr>\n",
       "  </thead>\n",
       "  <tbody>\n",
       "    <tr>\n",
       "      <th>3867</th>\n",
       "      <td>BLUE FELT HANGING HEART WITH FLOWER</td>\n",
       "      <td>1</td>\n",
       "    </tr>\n",
       "    <tr>\n",
       "      <th>3868</th>\n",
       "      <td>GLASS CAKE COVER AND PLATE</td>\n",
       "      <td>1</td>\n",
       "    </tr>\n",
       "    <tr>\n",
       "      <th>3869</th>\n",
       "      <td>CRACKED GLAZE EARRINGS RED</td>\n",
       "      <td>1</td>\n",
       "    </tr>\n",
       "    <tr>\n",
       "      <th>3870</th>\n",
       "      <td>SCALLOP SHELL SOAP DISH</td>\n",
       "      <td>1</td>\n",
       "    </tr>\n",
       "    <tr>\n",
       "      <th>3871</th>\n",
       "      <td>NECKLACE+BRACELET SET PINK DAISY</td>\n",
       "      <td>1</td>\n",
       "    </tr>\n",
       "    <tr>\n",
       "      <th>3872</th>\n",
       "      <td>RUBY GLASS CLUSTER EARRINGS</td>\n",
       "      <td>1</td>\n",
       "    </tr>\n",
       "    <tr>\n",
       "      <th>3873</th>\n",
       "      <td>PINK CHRYSANTHEMUMS ART FLOWER</td>\n",
       "      <td>1</td>\n",
       "    </tr>\n",
       "    <tr>\n",
       "      <th>3874</th>\n",
       "      <td>72 CAKE CASES VINTAGE CHRISTMAS</td>\n",
       "      <td>1</td>\n",
       "    </tr>\n",
       "    <tr>\n",
       "      <th>3875</th>\n",
       "      <td>WALL ART , THE MAGIC FOREST</td>\n",
       "      <td>1</td>\n",
       "    </tr>\n",
       "    <tr>\n",
       "      <th>3876</th>\n",
       "      <td>PAPER CRAFT , LITTLE BIRDIE</td>\n",
       "      <td>1</td>\n",
       "    </tr>\n",
       "  </tbody>\n",
       "</table>\n",
       "</div>"
      ],
      "text/plain": [
       "                             Product_name  Count\n",
       "3867  BLUE FELT HANGING HEART WITH FLOWER      1\n",
       "3868           GLASS CAKE COVER AND PLATE      1\n",
       "3869           CRACKED GLAZE EARRINGS RED      1\n",
       "3870              SCALLOP SHELL SOAP DISH      1\n",
       "3871     NECKLACE+BRACELET SET PINK DAISY      1\n",
       "3872          RUBY GLASS CLUSTER EARRINGS      1\n",
       "3873       PINK CHRYSANTHEMUMS ART FLOWER      1\n",
       "3874      72 CAKE CASES VINTAGE CHRISTMAS      1\n",
       "3875         WALL ART , THE MAGIC FOREST       1\n",
       "3876          PAPER CRAFT , LITTLE BIRDIE      1"
      ]
     },
     "execution_count": 32,
     "metadata": {},
     "output_type": "execute_result"
    }
   ],
   "source": [
    "bottom_10_product=data['Description'].value_counts().reset_index().rename(columns={'index':'Product_name','Description':'Count'}).tail(10)\n",
    "bottom_10_product"
   ]
  },
  {
   "cell_type": "code",
   "execution_count": 33,
   "id": "7c36d54e",
   "metadata": {},
   "outputs": [
    {
     "data": {
      "text/html": [
       "<div>\n",
       "<style scoped>\n",
       "    .dataframe tbody tr th:only-of-type {\n",
       "        vertical-align: middle;\n",
       "    }\n",
       "\n",
       "    .dataframe tbody tr th {\n",
       "        vertical-align: top;\n",
       "    }\n",
       "\n",
       "    .dataframe thead th {\n",
       "        text-align: right;\n",
       "    }\n",
       "</style>\n",
       "<table border=\"1\" class=\"dataframe\">\n",
       "  <thead>\n",
       "    <tr style=\"text-align: right;\">\n",
       "      <th></th>\n",
       "      <th>StockCode</th>\n",
       "      <th>Count</th>\n",
       "    </tr>\n",
       "  </thead>\n",
       "  <tbody>\n",
       "    <tr>\n",
       "      <th>0</th>\n",
       "      <td>85123A</td>\n",
       "      <td>2035</td>\n",
       "    </tr>\n",
       "    <tr>\n",
       "      <th>1</th>\n",
       "      <td>22423</td>\n",
       "      <td>1723</td>\n",
       "    </tr>\n",
       "    <tr>\n",
       "      <th>2</th>\n",
       "      <td>85099B</td>\n",
       "      <td>1618</td>\n",
       "    </tr>\n",
       "    <tr>\n",
       "      <th>3</th>\n",
       "      <td>84879</td>\n",
       "      <td>1408</td>\n",
       "    </tr>\n",
       "    <tr>\n",
       "      <th>4</th>\n",
       "      <td>47566</td>\n",
       "      <td>1396</td>\n",
       "    </tr>\n",
       "    <tr>\n",
       "      <th>5</th>\n",
       "      <td>20725</td>\n",
       "      <td>1317</td>\n",
       "    </tr>\n",
       "    <tr>\n",
       "      <th>6</th>\n",
       "      <td>22720</td>\n",
       "      <td>1159</td>\n",
       "    </tr>\n",
       "    <tr>\n",
       "      <th>7</th>\n",
       "      <td>20727</td>\n",
       "      <td>1105</td>\n",
       "    </tr>\n",
       "    <tr>\n",
       "      <th>8</th>\n",
       "      <td>POST</td>\n",
       "      <td>1099</td>\n",
       "    </tr>\n",
       "    <tr>\n",
       "      <th>9</th>\n",
       "      <td>23203</td>\n",
       "      <td>1098</td>\n",
       "    </tr>\n",
       "  </tbody>\n",
       "</table>\n",
       "</div>"
      ],
      "text/plain": [
       "  StockCode  Count\n",
       "0    85123A   2035\n",
       "1     22423   1723\n",
       "2    85099B   1618\n",
       "3     84879   1408\n",
       "4     47566   1396\n",
       "5     20725   1317\n",
       "6     22720   1159\n",
       "7     20727   1105\n",
       "8      POST   1099\n",
       "9     23203   1098"
      ]
     },
     "execution_count": 33,
     "metadata": {},
     "output_type": "execute_result"
    }
   ],
   "source": [
    "top_10_StockCodes=data['StockCode'].value_counts().reset_index().rename(columns={'index':'StockCode','StockCode':'Count'}).head(10)\n",
    "top_10_StockCodes"
   ]
  },
  {
   "cell_type": "code",
   "execution_count": 34,
   "id": "57130b7e",
   "metadata": {},
   "outputs": [
    {
     "data": {
      "image/png": "[encoded data removed]",
      "text/plain": [
       "<Figure size 864x432 with 1 Axes>"
      ]
     },
     "metadata": {
      "needs_background": "light"
     },
     "output_type": "display_data"
    }
   ],
   "source": [
    "# top 10 product in terms of StcokCode\n",
    "plt.figure(figsize=(12,6))\n",
    "sns.barplot(x=top_10_StockCodes['Count'],y=top_10_StockCodes['StockCode'])\n",
    "plt.title('Top 10 products in terms of Stock Code');"
   ]
  },
  {
   "cell_type": "code",
   "execution_count": null,
   "id": "053a5e93",
   "metadata": {},
   "outputs": [],
   "source": []
  },
  {
   "cell_type": "code",
   "execution_count": 35,
   "id": "6d27d76c",
   "metadata": {
    "scrolled": true
   },
   "outputs": [
    {
     "name": "stdout",
     "output_type": "stream",
     "text": [
      "Country\n",
      "United Kingdom          3920\n",
      "Germany                   94\n",
      "France                    87\n",
      "Spain                     30\n",
      "Belgium                   25\n",
      "Switzerland               21\n",
      "Portugal                  19\n",
      "Italy                     14\n",
      "Finland                   12\n",
      "Austria                   11\n",
      "Norway                    10\n",
      "Netherlands                9\n",
      "Australia                  9\n",
      "Denmark                    9\n",
      "Channel Islands            9\n",
      "Cyprus                     8\n",
      "Sweden                     8\n",
      "Japan                      8\n",
      "Poland                     6\n",
      "USA                        4\n",
      "Canada                     4\n",
      "Unspecified                4\n",
      "Greece                     4\n",
      "EIRE                       3\n",
      "Israel                     3\n",
      "Malta                      2\n",
      "United Arab Emirates       2\n",
      "Bahrain                    2\n",
      "Czech Republic             1\n",
      "Lithuania                  1\n",
      "Lebanon                    1\n",
      "RSA                        1\n",
      "Saudi Arabia               1\n",
      "Singapore                  1\n",
      "Iceland                    1\n",
      "Brazil                     1\n",
      "European Community         1\n",
      "Name: CustomerID, dtype: int64\n"
     ]
    }
   ],
   "source": [
    "# Group customers by country and count unique customer IDs\n",
    "customer_count = data.groupby('Country')['CustomerID'].nunique()\n",
    "\n",
    "# Sort the customer count in descending order\n",
    "customer_count = customer_count.sort_values(ascending=False)\n",
    "\n",
    "# Print the customer count by country\n",
    "print(customer_count)"
   ]
  },
  {
   "cell_type": "code",
   "execution_count": 36,
   "id": "a2ceb64b",
   "metadata": {
    "scrolled": true
   },
   "outputs": [
    {
     "data": {
      "image/png": "[encoded data removed]",
      "text/plain": [
       "<Figure size 864x432 with 1 Axes>"
      ]
     },
     "metadata": {
      "needs_background": "light"
     },
     "output_type": "display_data"
    }
   ],
   "source": [
    "plt.figure(figsize=(12, 6))\n",
    "customer_count.head(10).plot(kind='bar')\n",
    "plt.xlabel('Country')\n",
    "plt.ylabel('Customer Count')\n",
    "plt.title('Customer Count by Country')\n",
    "plt.xticks(rotation=45)\n",
    "plt.tight_layout()\n",
    "plt.show()"
   ]
  },
  {
   "cell_type": "markdown",
   "id": "acf9d54e",
   "metadata": {},
   "source": [
    "#### from the above analysis it concludes the most of the customers are from uk and top 5 countries are europian countries "
   ]
  },
  {
   "cell_type": "code",
   "execution_count": 37,
   "id": "97dedca6",
   "metadata": {},
   "outputs": [
    {
     "data": {
      "text/html": [
       "<div>\n",
       "<style scoped>\n",
       "    .dataframe tbody tr th:only-of-type {\n",
       "        vertical-align: middle;\n",
       "    }\n",
       "\n",
       "    .dataframe tbody tr th {\n",
       "        vertical-align: top;\n",
       "    }\n",
       "\n",
       "    .dataframe thead th {\n",
       "        text-align: right;\n",
       "    }\n",
       "</style>\n",
       "<table border=\"1\" class=\"dataframe\">\n",
       "  <thead>\n",
       "    <tr style=\"text-align: right;\">\n",
       "      <th></th>\n",
       "      <th>CustomerID</th>\n",
       "      <th>Products_purchasing_Count</th>\n",
       "    </tr>\n",
       "  </thead>\n",
       "  <tbody>\n",
       "    <tr>\n",
       "      <th>0</th>\n",
       "      <td>17841.0</td>\n",
       "      <td>7847</td>\n",
       "    </tr>\n",
       "    <tr>\n",
       "      <th>1</th>\n",
       "      <td>14911.0</td>\n",
       "      <td>5675</td>\n",
       "    </tr>\n",
       "    <tr>\n",
       "      <th>2</th>\n",
       "      <td>14096.0</td>\n",
       "      <td>5111</td>\n",
       "    </tr>\n",
       "    <tr>\n",
       "      <th>3</th>\n",
       "      <td>12748.0</td>\n",
       "      <td>4595</td>\n",
       "    </tr>\n",
       "    <tr>\n",
       "      <th>4</th>\n",
       "      <td>14606.0</td>\n",
       "      <td>2700</td>\n",
       "    </tr>\n",
       "    <tr>\n",
       "      <th>5</th>\n",
       "      <td>15311.0</td>\n",
       "      <td>2379</td>\n",
       "    </tr>\n",
       "    <tr>\n",
       "      <th>6</th>\n",
       "      <td>14646.0</td>\n",
       "      <td>2076</td>\n",
       "    </tr>\n",
       "    <tr>\n",
       "      <th>7</th>\n",
       "      <td>13089.0</td>\n",
       "      <td>1818</td>\n",
       "    </tr>\n",
       "    <tr>\n",
       "      <th>8</th>\n",
       "      <td>13263.0</td>\n",
       "      <td>1677</td>\n",
       "    </tr>\n",
       "    <tr>\n",
       "      <th>9</th>\n",
       "      <td>14298.0</td>\n",
       "      <td>1637</td>\n",
       "    </tr>\n",
       "  </tbody>\n",
       "</table>\n",
       "</div>"
      ],
      "text/plain": [
       "   CustomerID  Products_purchasing_Count\n",
       "0     17841.0                       7847\n",
       "1     14911.0                       5675\n",
       "2     14096.0                       5111\n",
       "3     12748.0                       4595\n",
       "4     14606.0                       2700\n",
       "5     15311.0                       2379\n",
       "6     14646.0                       2076\n",
       "7     13089.0                       1818\n",
       "8     13263.0                       1677\n",
       "9     14298.0                       1637"
      ]
     },
     "execution_count": 37,
     "metadata": {},
     "output_type": "execute_result"
    }
   ],
   "source": [
    "top_10_customers=data['CustomerID'].value_counts().reset_index().rename(columns={'index':'CustomerID','CustomerID':'Products_purchasing_Count'}).head(10)\n",
    "top_10_customers"
   ]
  },
  {
   "cell_type": "code",
   "execution_count": 38,
   "id": "b6624277",
   "metadata": {},
   "outputs": [
    {
     "data": {
      "image/png": "[encoded data removed]",
      "text/plain": [
       "<Figure size 864x432 with 1 Axes>"
      ]
     },
     "metadata": {
      "needs_background": "light"
     },
     "output_type": "display_data"
    }
   ],
   "source": [
    "# Top 10 frequent Customers\n",
    "plt.figure(figsize=(12,6))\n",
    "sns.barplot(x=top_10_customers['CustomerID'],y=top_10_customers['Products_purchasing_Count'].head(10))\n",
    "plt.title('Top 10 frequent Customers.');"
   ]
  },
  {
   "cell_type": "code",
   "execution_count": 39,
   "id": "bcec0949",
   "metadata": {},
   "outputs": [
    {
     "data": {
      "text/html": [
       "<div>\n",
       "<style scoped>\n",
       "    .dataframe tbody tr th:only-of-type {\n",
       "        vertical-align: middle;\n",
       "    }\n",
       "\n",
       "    .dataframe tbody tr th {\n",
       "        vertical-align: top;\n",
       "    }\n",
       "\n",
       "    .dataframe thead th {\n",
       "        text-align: right;\n",
       "    }\n",
       "</style>\n",
       "<table border=\"1\" class=\"dataframe\">\n",
       "  <thead>\n",
       "    <tr style=\"text-align: right;\">\n",
       "      <th></th>\n",
       "      <th>Country</th>\n",
       "      <th>Customer_count</th>\n",
       "    </tr>\n",
       "  </thead>\n",
       "  <tbody>\n",
       "    <tr>\n",
       "      <th>0</th>\n",
       "      <td>United Kingdom</td>\n",
       "      <td>354321</td>\n",
       "    </tr>\n",
       "    <tr>\n",
       "      <th>1</th>\n",
       "      <td>Germany</td>\n",
       "      <td>9040</td>\n",
       "    </tr>\n",
       "    <tr>\n",
       "      <th>2</th>\n",
       "      <td>France</td>\n",
       "      <td>8341</td>\n",
       "    </tr>\n",
       "    <tr>\n",
       "      <th>3</th>\n",
       "      <td>EIRE</td>\n",
       "      <td>7236</td>\n",
       "    </tr>\n",
       "    <tr>\n",
       "      <th>4</th>\n",
       "      <td>Spain</td>\n",
       "      <td>2484</td>\n",
       "    </tr>\n",
       "    <tr>\n",
       "      <th>5</th>\n",
       "      <td>Netherlands</td>\n",
       "      <td>2359</td>\n",
       "    </tr>\n",
       "    <tr>\n",
       "      <th>6</th>\n",
       "      <td>Belgium</td>\n",
       "      <td>2031</td>\n",
       "    </tr>\n",
       "    <tr>\n",
       "      <th>7</th>\n",
       "      <td>Switzerland</td>\n",
       "      <td>1841</td>\n",
       "    </tr>\n",
       "    <tr>\n",
       "      <th>8</th>\n",
       "      <td>Portugal</td>\n",
       "      <td>1462</td>\n",
       "    </tr>\n",
       "    <tr>\n",
       "      <th>9</th>\n",
       "      <td>Australia</td>\n",
       "      <td>1182</td>\n",
       "    </tr>\n",
       "    <tr>\n",
       "      <th>10</th>\n",
       "      <td>Norway</td>\n",
       "      <td>1071</td>\n",
       "    </tr>\n",
       "    <tr>\n",
       "      <th>11</th>\n",
       "      <td>Italy</td>\n",
       "      <td>758</td>\n",
       "    </tr>\n",
       "    <tr>\n",
       "      <th>12</th>\n",
       "      <td>Channel Islands</td>\n",
       "      <td>748</td>\n",
       "    </tr>\n",
       "    <tr>\n",
       "      <th>13</th>\n",
       "      <td>Finland</td>\n",
       "      <td>685</td>\n",
       "    </tr>\n",
       "    <tr>\n",
       "      <th>14</th>\n",
       "      <td>Cyprus</td>\n",
       "      <td>614</td>\n",
       "    </tr>\n",
       "    <tr>\n",
       "      <th>15</th>\n",
       "      <td>Sweden</td>\n",
       "      <td>451</td>\n",
       "    </tr>\n",
       "    <tr>\n",
       "      <th>16</th>\n",
       "      <td>Austria</td>\n",
       "      <td>398</td>\n",
       "    </tr>\n",
       "    <tr>\n",
       "      <th>17</th>\n",
       "      <td>Denmark</td>\n",
       "      <td>380</td>\n",
       "    </tr>\n",
       "    <tr>\n",
       "      <th>18</th>\n",
       "      <td>Poland</td>\n",
       "      <td>330</td>\n",
       "    </tr>\n",
       "    <tr>\n",
       "      <th>19</th>\n",
       "      <td>Japan</td>\n",
       "      <td>321</td>\n",
       "    </tr>\n",
       "    <tr>\n",
       "      <th>20</th>\n",
       "      <td>Israel</td>\n",
       "      <td>248</td>\n",
       "    </tr>\n",
       "    <tr>\n",
       "      <th>21</th>\n",
       "      <td>Unspecified</td>\n",
       "      <td>244</td>\n",
       "    </tr>\n",
       "    <tr>\n",
       "      <th>22</th>\n",
       "      <td>Singapore</td>\n",
       "      <td>222</td>\n",
       "    </tr>\n",
       "    <tr>\n",
       "      <th>23</th>\n",
       "      <td>Iceland</td>\n",
       "      <td>182</td>\n",
       "    </tr>\n",
       "    <tr>\n",
       "      <th>24</th>\n",
       "      <td>USA</td>\n",
       "      <td>179</td>\n",
       "    </tr>\n",
       "    <tr>\n",
       "      <th>25</th>\n",
       "      <td>Canada</td>\n",
       "      <td>151</td>\n",
       "    </tr>\n",
       "    <tr>\n",
       "      <th>26</th>\n",
       "      <td>Greece</td>\n",
       "      <td>145</td>\n",
       "    </tr>\n",
       "    <tr>\n",
       "      <th>27</th>\n",
       "      <td>Malta</td>\n",
       "      <td>112</td>\n",
       "    </tr>\n",
       "    <tr>\n",
       "      <th>28</th>\n",
       "      <td>United Arab Emirates</td>\n",
       "      <td>68</td>\n",
       "    </tr>\n",
       "    <tr>\n",
       "      <th>29</th>\n",
       "      <td>European Community</td>\n",
       "      <td>60</td>\n",
       "    </tr>\n",
       "    <tr>\n",
       "      <th>30</th>\n",
       "      <td>RSA</td>\n",
       "      <td>57</td>\n",
       "    </tr>\n",
       "    <tr>\n",
       "      <th>31</th>\n",
       "      <td>Lebanon</td>\n",
       "      <td>45</td>\n",
       "    </tr>\n",
       "    <tr>\n",
       "      <th>32</th>\n",
       "      <td>Lithuania</td>\n",
       "      <td>35</td>\n",
       "    </tr>\n",
       "    <tr>\n",
       "      <th>33</th>\n",
       "      <td>Brazil</td>\n",
       "      <td>32</td>\n",
       "    </tr>\n",
       "    <tr>\n",
       "      <th>34</th>\n",
       "      <td>Czech Republic</td>\n",
       "      <td>25</td>\n",
       "    </tr>\n",
       "    <tr>\n",
       "      <th>35</th>\n",
       "      <td>Bahrain</td>\n",
       "      <td>17</td>\n",
       "    </tr>\n",
       "    <tr>\n",
       "      <th>36</th>\n",
       "      <td>Saudi Arabia</td>\n",
       "      <td>9</td>\n",
       "    </tr>\n",
       "  </tbody>\n",
       "</table>\n",
       "</div>"
      ],
      "text/plain": [
       "                 Country  Customer_count\n",
       "0         United Kingdom          354321\n",
       "1                Germany            9040\n",
       "2                 France            8341\n",
       "3                   EIRE            7236\n",
       "4                  Spain            2484\n",
       "5            Netherlands            2359\n",
       "6                Belgium            2031\n",
       "7            Switzerland            1841\n",
       "8               Portugal            1462\n",
       "9              Australia            1182\n",
       "10                Norway            1071\n",
       "11                 Italy             758\n",
       "12       Channel Islands             748\n",
       "13               Finland             685\n",
       "14                Cyprus             614\n",
       "15                Sweden             451\n",
       "16               Austria             398\n",
       "17               Denmark             380\n",
       "18                Poland             330\n",
       "19                 Japan             321\n",
       "20                Israel             248\n",
       "21           Unspecified             244\n",
       "22             Singapore             222\n",
       "23               Iceland             182\n",
       "24                   USA             179\n",
       "25                Canada             151\n",
       "26                Greece             145\n",
       "27                 Malta             112\n",
       "28  United Arab Emirates              68\n",
       "29    European Community              60\n",
       "30                   RSA              57\n",
       "31               Lebanon              45\n",
       "32             Lithuania              35\n",
       "33                Brazil              32\n",
       "34        Czech Republic              25\n",
       "35               Bahrain              17\n",
       "36          Saudi Arabia               9"
      ]
     },
     "execution_count": 39,
     "metadata": {},
     "output_type": "execute_result"
    }
   ],
   "source": [
    "top_5_countries=data['Country'].value_counts().reset_index().rename(columns={'index':'Country','Country':'Customer_count'})\n",
    "top_5_countries"
   ]
  },
  {
   "cell_type": "code",
   "execution_count": 40,
   "id": "bc48ea0e",
   "metadata": {},
   "outputs": [
    {
     "data": {
      "text/html": [
       "<div>\n",
       "<style scoped>\n",
       "    .dataframe tbody tr th:only-of-type {\n",
       "        vertical-align: middle;\n",
       "    }\n",
       "\n",
       "    .dataframe tbody tr th {\n",
       "        vertical-align: top;\n",
       "    }\n",
       "\n",
       "    .dataframe thead th {\n",
       "        text-align: right;\n",
       "    }\n",
       "</style>\n",
       "<table border=\"1\" class=\"dataframe\">\n",
       "  <thead>\n",
       "    <tr style=\"text-align: right;\">\n",
       "      <th></th>\n",
       "      <th>Month</th>\n",
       "      <th>Sales_count</th>\n",
       "    </tr>\n",
       "  </thead>\n",
       "  <tbody>\n",
       "    <tr>\n",
       "      <th>0</th>\n",
       "      <td>November</td>\n",
       "      <td>64531</td>\n",
       "    </tr>\n",
       "    <tr>\n",
       "      <th>1</th>\n",
       "      <td>October</td>\n",
       "      <td>49554</td>\n",
       "    </tr>\n",
       "    <tr>\n",
       "      <th>2</th>\n",
       "      <td>December</td>\n",
       "      <td>43461</td>\n",
       "    </tr>\n",
       "    <tr>\n",
       "      <th>3</th>\n",
       "      <td>September</td>\n",
       "      <td>40028</td>\n",
       "    </tr>\n",
       "    <tr>\n",
       "      <th>4</th>\n",
       "      <td>May</td>\n",
       "      <td>28320</td>\n",
       "    </tr>\n",
       "    <tr>\n",
       "      <th>5</th>\n",
       "      <td>June</td>\n",
       "      <td>27185</td>\n",
       "    </tr>\n",
       "    <tr>\n",
       "      <th>6</th>\n",
       "      <td>March</td>\n",
       "      <td>27175</td>\n",
       "    </tr>\n",
       "    <tr>\n",
       "      <th>7</th>\n",
       "      <td>August</td>\n",
       "      <td>27007</td>\n",
       "    </tr>\n",
       "    <tr>\n",
       "      <th>8</th>\n",
       "      <td>July</td>\n",
       "      <td>26825</td>\n",
       "    </tr>\n",
       "    <tr>\n",
       "      <th>9</th>\n",
       "      <td>April</td>\n",
       "      <td>22642</td>\n",
       "    </tr>\n",
       "    <tr>\n",
       "      <th>10</th>\n",
       "      <td>January</td>\n",
       "      <td>21229</td>\n",
       "    </tr>\n",
       "    <tr>\n",
       "      <th>11</th>\n",
       "      <td>February</td>\n",
       "      <td>19927</td>\n",
       "    </tr>\n",
       "  </tbody>\n",
       "</table>\n",
       "</div>"
      ],
      "text/plain": [
       "        Month  Sales_count\n",
       "0    November        64531\n",
       "1     October        49554\n",
       "2    December        43461\n",
       "3   September        40028\n",
       "4         May        28320\n",
       "5        June        27185\n",
       "6       March        27175\n",
       "7      August        27007\n",
       "8        July        26825\n",
       "9       April        22642\n",
       "10    January        21229\n",
       "11   February        19927"
      ]
     },
     "execution_count": 40,
     "metadata": {},
     "output_type": "execute_result"
    }
   ],
   "source": [
    "sales_in_month=data['Month'].value_counts().reset_index().rename(columns={'index':'Month','Month':'Sales_count'})\n",
    "sales_in_month"
   ]
  },
  {
   "cell_type": "code",
   "execution_count": 41,
   "id": "a944e650",
   "metadata": {
    "scrolled": true
   },
   "outputs": [
    {
     "data": {
      "image/png": "[encoded data removed]",
      "text/plain": [
       "<Figure size 864x432 with 1 Axes>"
      ]
     },
     "metadata": {
      "needs_background": "light"
     },
     "output_type": "display_data"
    }
   ],
   "source": [
    "# Sales count in different months.\n",
    "plt.figure(figsize=(12,6))\n",
    "sns.barplot(x=sales_in_month['Month'],y=sales_in_month['Sales_count'])\n",
    "plt.title('Sales count in different Months ');"
   ]
  },
  {
   "cell_type": "markdown",
   "id": "f082ec20",
   "metadata": {},
   "source": [
    "### we have the highest sales in the month of November followed by october, December,and september "
   ]
  },
  {
   "cell_type": "code",
   "execution_count": 42,
   "id": "84128133",
   "metadata": {},
   "outputs": [
    {
     "data": {
      "text/html": [
       "<div>\n",
       "<style scoped>\n",
       "    .dataframe tbody tr th:only-of-type {\n",
       "        vertical-align: middle;\n",
       "    }\n",
       "\n",
       "    .dataframe tbody tr th {\n",
       "        vertical-align: top;\n",
       "    }\n",
       "\n",
       "    .dataframe thead th {\n",
       "        text-align: right;\n",
       "    }\n",
       "</style>\n",
       "<table border=\"1\" class=\"dataframe\">\n",
       "  <thead>\n",
       "    <tr style=\"text-align: right;\">\n",
       "      <th></th>\n",
       "      <th>Day</th>\n",
       "      <th>Sale_count</th>\n",
       "    </tr>\n",
       "  </thead>\n",
       "  <tbody>\n",
       "    <tr>\n",
       "      <th>0</th>\n",
       "      <td>Thursday</td>\n",
       "      <td>80035</td>\n",
       "    </tr>\n",
       "    <tr>\n",
       "      <th>1</th>\n",
       "      <td>Wednesday</td>\n",
       "      <td>68885</td>\n",
       "    </tr>\n",
       "    <tr>\n",
       "      <th>2</th>\n",
       "      <td>Tuesday</td>\n",
       "      <td>66473</td>\n",
       "    </tr>\n",
       "    <tr>\n",
       "      <th>3</th>\n",
       "      <td>Monday</td>\n",
       "      <td>64893</td>\n",
       "    </tr>\n",
       "    <tr>\n",
       "      <th>4</th>\n",
       "      <td>Sunday</td>\n",
       "      <td>62773</td>\n",
       "    </tr>\n",
       "    <tr>\n",
       "      <th>5</th>\n",
       "      <td>Friday</td>\n",
       "      <td>54825</td>\n",
       "    </tr>\n",
       "  </tbody>\n",
       "</table>\n",
       "</div>"
      ],
      "text/plain": [
       "         Day  Sale_count\n",
       "0   Thursday       80035\n",
       "1  Wednesday       68885\n",
       "2    Tuesday       66473\n",
       "3     Monday       64893\n",
       "4     Sunday       62773\n",
       "5     Friday       54825"
      ]
     },
     "execution_count": 42,
     "metadata": {},
     "output_type": "execute_result"
    }
   ],
   "source": [
    "sales_on_day_basis=data['Day'].value_counts().reset_index().rename(columns={'index':'Day',\"Day\":'Sale_count'})\n",
    "sales_on_day_basis"
   ]
  },
  {
   "cell_type": "code",
   "execution_count": 43,
   "id": "9d34f6fd",
   "metadata": {},
   "outputs": [
    {
     "data": {
      "image/png": "[encoded data removed]",
      "text/plain": [
       "<Figure size 720x288 with 1 Axes>"
      ]
     },
     "metadata": {
      "needs_background": "light"
     },
     "output_type": "display_data"
    }
   ],
   "source": [
    "# Sales count on different days.\n",
    "plt.figure(figsize=(10,4))\n",
    "sns.barplot(x=sales_on_day_basis['Day'],y=sales_on_day_basis['Sale_count'])\n",
    "plt.title('Sales count on different Days ');"
   ]
  },
  {
   "cell_type": "code",
   "execution_count": 44,
   "id": "1207ba4e",
   "metadata": {},
   "outputs": [],
   "source": [
    "def time(time):\n",
    "  if (time==6 or time==7 or time==8 or time==9 or time==10 or time==11) :\n",
    "    return'Morning'\n",
    "  elif (time==12 or time==13 or time==14 or time==15 or time==16 or time==17):\n",
    "    return 'Afternoon'\n",
    "  else:\n",
    "    return 'Evening'  "
   ]
  },
  {
   "cell_type": "code",
   "execution_count": 45,
   "id": "eb861888",
   "metadata": {},
   "outputs": [],
   "source": [
    "data['Day_time_type']=data['hour'].apply(time)"
   ]
  },
  {
   "cell_type": "code",
   "execution_count": 46,
   "id": "2fec454a",
   "metadata": {
    "scrolled": true
   },
   "outputs": [
    {
     "data": {
      "text/html": [
       "<div>\n",
       "<style scoped>\n",
       "    .dataframe tbody tr th:only-of-type {\n",
       "        vertical-align: middle;\n",
       "    }\n",
       "\n",
       "    .dataframe tbody tr th {\n",
       "        vertical-align: top;\n",
       "    }\n",
       "\n",
       "    .dataframe thead th {\n",
       "        text-align: right;\n",
       "    }\n",
       "</style>\n",
       "<table border=\"1\" class=\"dataframe\">\n",
       "  <thead>\n",
       "    <tr style=\"text-align: right;\">\n",
       "      <th></th>\n",
       "      <th>Day_time_type</th>\n",
       "      <th>Sales_count</th>\n",
       "    </tr>\n",
       "  </thead>\n",
       "  <tbody>\n",
       "    <tr>\n",
       "      <th>0</th>\n",
       "      <td>Afternoon</td>\n",
       "      <td>272738</td>\n",
       "    </tr>\n",
       "    <tr>\n",
       "      <th>1</th>\n",
       "      <td>Morning</td>\n",
       "      <td>118095</td>\n",
       "    </tr>\n",
       "    <tr>\n",
       "      <th>2</th>\n",
       "      <td>Evening</td>\n",
       "      <td>7051</td>\n",
       "    </tr>\n",
       "  </tbody>\n",
       "</table>\n",
       "</div>"
      ],
      "text/plain": [
       "  Day_time_type  Sales_count\n",
       "0     Afternoon       272738\n",
       "1       Morning       118095\n",
       "2       Evening         7051"
      ]
     },
     "execution_count": 46,
     "metadata": {},
     "output_type": "execute_result"
    }
   ],
   "source": [
    "sales_timing=data['Day_time_type'].value_counts().reset_index().rename(columns={'index':'Day_time_type','Day_time_type':'Sales_count'})\n",
    "sales_timing"
   ]
  },
  {
   "cell_type": "code",
   "execution_count": 47,
   "id": "18ff0562",
   "metadata": {},
   "outputs": [
    {
     "data": {
      "image/png": "[encoded data removed]",
      "text/plain": [
       "<Figure size 720x216 with 1 Axes>"
      ]
     },
     "metadata": {
      "needs_background": "light"
     },
     "output_type": "display_data"
    }
   ],
   "source": [
    "# Sales count on different days.\n",
    "plt.figure(figsize=(10,3))\n",
    "sns.barplot(x=sales_timing['Day_time_type'],y=sales_timing['Sales_count'])\n",
    "plt.title('Sales count in different day timings');"
   ]
  },
  {
   "cell_type": "code",
   "execution_count": 48,
   "id": "0fdcafd2",
   "metadata": {},
   "outputs": [],
   "source": [
    "\n",
    "avg_amount = data.groupby('CustomerID')['TotalAmount'].mean().reset_index().rename(columns={'TotalAmount':'Avg_amount_per_customer'}).sort_values(by='Avg_amount_per_customer')"
   ]
  },
  {
   "cell_type": "code",
   "execution_count": 49,
   "id": "2d209047",
   "metadata": {},
   "outputs": [
    {
     "data": {
      "text/html": [
       "<div>\n",
       "<style scoped>\n",
       "    .dataframe tbody tr th:only-of-type {\n",
       "        vertical-align: middle;\n",
       "    }\n",
       "\n",
       "    .dataframe tbody tr th {\n",
       "        vertical-align: top;\n",
       "    }\n",
       "\n",
       "    .dataframe thead th {\n",
       "        text-align: right;\n",
       "    }\n",
       "</style>\n",
       "<table border=\"1\" class=\"dataframe\">\n",
       "  <thead>\n",
       "    <tr style=\"text-align: right;\">\n",
       "      <th></th>\n",
       "      <th>CustomerID</th>\n",
       "      <th>Avg_amount_per_customer</th>\n",
       "    </tr>\n",
       "  </thead>\n",
       "  <tbody>\n",
       "    <tr>\n",
       "      <th>2315</th>\n",
       "      <td>15503.0</td>\n",
       "      <td>2.101286</td>\n",
       "    </tr>\n",
       "    <tr>\n",
       "      <th>3995</th>\n",
       "      <td>17816.0</td>\n",
       "      <td>2.150588</td>\n",
       "    </tr>\n",
       "    <tr>\n",
       "      <th>990</th>\n",
       "      <td>13684.0</td>\n",
       "      <td>2.241000</td>\n",
       "    </tr>\n",
       "    <tr>\n",
       "      <th>697</th>\n",
       "      <td>13271.0</td>\n",
       "      <td>2.264375</td>\n",
       "    </tr>\n",
       "    <tr>\n",
       "      <th>3590</th>\n",
       "      <td>17254.0</td>\n",
       "      <td>2.432500</td>\n",
       "    </tr>\n",
       "    <tr>\n",
       "      <th>...</th>\n",
       "      <td>...</td>\n",
       "      <td>...</td>\n",
       "    </tr>\n",
       "    <tr>\n",
       "      <th>2087</th>\n",
       "      <td>15195.0</td>\n",
       "      <td>3861.000000</td>\n",
       "    </tr>\n",
       "    <tr>\n",
       "      <th>2502</th>\n",
       "      <td>15749.0</td>\n",
       "      <td>4453.430000</td>\n",
       "    </tr>\n",
       "    <tr>\n",
       "      <th>2011</th>\n",
       "      <td>15098.0</td>\n",
       "      <td>13305.500000</td>\n",
       "    </tr>\n",
       "    <tr>\n",
       "      <th>3008</th>\n",
       "      <td>16446.0</td>\n",
       "      <td>56157.500000</td>\n",
       "    </tr>\n",
       "    <tr>\n",
       "      <th>0</th>\n",
       "      <td>12346.0</td>\n",
       "      <td>77183.600000</td>\n",
       "    </tr>\n",
       "  </tbody>\n",
       "</table>\n",
       "<p>4338 rows × 2 columns</p>\n",
       "</div>"
      ],
      "text/plain": [
       "      CustomerID  Avg_amount_per_customer\n",
       "2315     15503.0                 2.101286\n",
       "3995     17816.0                 2.150588\n",
       "990      13684.0                 2.241000\n",
       "697      13271.0                 2.264375\n",
       "3590     17254.0                 2.432500\n",
       "...          ...                      ...\n",
       "2087     15195.0              3861.000000\n",
       "2502     15749.0              4453.430000\n",
       "2011     15098.0             13305.500000\n",
       "3008     16446.0             56157.500000\n",
       "0        12346.0             77183.600000\n",
       "\n",
       "[4338 rows x 2 columns]"
      ]
     },
     "execution_count": 49,
     "metadata": {},
     "output_type": "execute_result"
    }
   ],
   "source": [
    "avg_amount"
   ]
  },
  {
   "cell_type": "code",
   "execution_count": 50,
   "id": "d29f957c",
   "metadata": {},
   "outputs": [
    {
     "data": {
      "text/plain": [
       "Text(0.5, 1.0, 'Average amount spent by each Customer')"
      ]
     },
     "execution_count": 50,
     "metadata": {},
     "output_type": "execute_result"
    },
    {
     "data": {
      "image/png": "[encoded data removed]",
      "text/plain": [
       "<Figure size 720x216 with 1 Axes>"
      ]
     },
     "metadata": {
      "needs_background": "light"
     },
     "output_type": "display_data"
    }
   ],
   "source": [
    "# Sales count on different days.\n",
    "plt.figure(figsize=(10,3))\n",
    "sns.barplot(x=avg_amount['CustomerID'].head(5),y=avg_amount['Avg_amount_per_customer'].head(15))\n",
    "plt.title('Average amount spent by each Customer')"
   ]
  },
  {
   "cell_type": "markdown",
   "id": "af828c57",
   "metadata": {},
   "source": [
    "# RFM Model Analysis:\n",
    "## What is RFM?\n",
    "* RFM is a method used to analyze customer value. RFM stands for RECENCY, Frequency, and Monetary.\n",
    "* RECENCY: How recently did the customer visit our website or how recently did a customer purchase?\n",
    "* Frequency: How often do they visit or how often do they purchase?\n",
    "* Monetary: How much revenue we get from their visit or how much do they spend when they purchase?\n",
    "\n",
    "## Why it is Needed?\n",
    "* RFM Analysis is a marketing framework that is used to understand and analyze customer behaviour based on the above three factors RECENCY, Frequency, and Monetary.\n",
    "* The RFM Analysis will help the businesses to segment their customer base into different homogenous groups so that they can engage with each group with different targeted marketing strategies.*"
   ]
  },
  {
   "cell_type": "code",
   "execution_count": 51,
   "id": "3f7c664f",
   "metadata": {},
   "outputs": [],
   "source": [
    "rfm_dataframe=data.copy()"
   ]
  },
  {
   "cell_type": "code",
   "execution_count": 52,
   "id": "dcf45088",
   "metadata": {},
   "outputs": [
    {
     "data": {
      "text/html": [
       "<div>\n",
       "<style scoped>\n",
       "    .dataframe tbody tr th:only-of-type {\n",
       "        vertical-align: middle;\n",
       "    }\n",
       "\n",
       "    .dataframe tbody tr th {\n",
       "        vertical-align: top;\n",
       "    }\n",
       "\n",
       "    .dataframe thead th {\n",
       "        text-align: right;\n",
       "    }\n",
       "</style>\n",
       "<table border=\"1\" class=\"dataframe\">\n",
       "  <thead>\n",
       "    <tr style=\"text-align: right;\">\n",
       "      <th></th>\n",
       "      <th>InvoiceNo</th>\n",
       "      <th>StockCode</th>\n",
       "      <th>Description</th>\n",
       "      <th>Quantity</th>\n",
       "      <th>InvoiceDate</th>\n",
       "      <th>UnitPrice</th>\n",
       "      <th>CustomerID</th>\n",
       "      <th>Country</th>\n",
       "      <th>year</th>\n",
       "      <th>Month_num</th>\n",
       "      <th>Day_num</th>\n",
       "      <th>hour</th>\n",
       "      <th>minute</th>\n",
       "      <th>Month</th>\n",
       "      <th>Day</th>\n",
       "      <th>TotalAmount</th>\n",
       "      <th>Day_time_type</th>\n",
       "    </tr>\n",
       "  </thead>\n",
       "  <tbody>\n",
       "    <tr>\n",
       "      <th>0</th>\n",
       "      <td>536365</td>\n",
       "      <td>85123A</td>\n",
       "      <td>WHITE HANGING HEART T-LIGHT HOLDER</td>\n",
       "      <td>6</td>\n",
       "      <td>2010-12-01 08:26:00</td>\n",
       "      <td>2.55</td>\n",
       "      <td>17850.0</td>\n",
       "      <td>United Kingdom</td>\n",
       "      <td>2010</td>\n",
       "      <td>12</td>\n",
       "      <td>1</td>\n",
       "      <td>8</td>\n",
       "      <td>26</td>\n",
       "      <td>December</td>\n",
       "      <td>Wednesday</td>\n",
       "      <td>15.30</td>\n",
       "      <td>Morning</td>\n",
       "    </tr>\n",
       "    <tr>\n",
       "      <th>1</th>\n",
       "      <td>536365</td>\n",
       "      <td>71053</td>\n",
       "      <td>WHITE METAL LANTERN</td>\n",
       "      <td>6</td>\n",
       "      <td>2010-12-01 08:26:00</td>\n",
       "      <td>3.39</td>\n",
       "      <td>17850.0</td>\n",
       "      <td>United Kingdom</td>\n",
       "      <td>2010</td>\n",
       "      <td>12</td>\n",
       "      <td>1</td>\n",
       "      <td>8</td>\n",
       "      <td>26</td>\n",
       "      <td>December</td>\n",
       "      <td>Wednesday</td>\n",
       "      <td>20.34</td>\n",
       "      <td>Morning</td>\n",
       "    </tr>\n",
       "    <tr>\n",
       "      <th>2</th>\n",
       "      <td>536365</td>\n",
       "      <td>84406B</td>\n",
       "      <td>CREAM CUPID HEARTS COAT HANGER</td>\n",
       "      <td>8</td>\n",
       "      <td>2010-12-01 08:26:00</td>\n",
       "      <td>2.75</td>\n",
       "      <td>17850.0</td>\n",
       "      <td>United Kingdom</td>\n",
       "      <td>2010</td>\n",
       "      <td>12</td>\n",
       "      <td>1</td>\n",
       "      <td>8</td>\n",
       "      <td>26</td>\n",
       "      <td>December</td>\n",
       "      <td>Wednesday</td>\n",
       "      <td>22.00</td>\n",
       "      <td>Morning</td>\n",
       "    </tr>\n",
       "    <tr>\n",
       "      <th>3</th>\n",
       "      <td>536365</td>\n",
       "      <td>84029G</td>\n",
       "      <td>KNITTED UNION FLAG HOT WATER BOTTLE</td>\n",
       "      <td>6</td>\n",
       "      <td>2010-12-01 08:26:00</td>\n",
       "      <td>3.39</td>\n",
       "      <td>17850.0</td>\n",
       "      <td>United Kingdom</td>\n",
       "      <td>2010</td>\n",
       "      <td>12</td>\n",
       "      <td>1</td>\n",
       "      <td>8</td>\n",
       "      <td>26</td>\n",
       "      <td>December</td>\n",
       "      <td>Wednesday</td>\n",
       "      <td>20.34</td>\n",
       "      <td>Morning</td>\n",
       "    </tr>\n",
       "    <tr>\n",
       "      <th>4</th>\n",
       "      <td>536365</td>\n",
       "      <td>84029E</td>\n",
       "      <td>RED WOOLLY HOTTIE WHITE HEART.</td>\n",
       "      <td>6</td>\n",
       "      <td>2010-12-01 08:26:00</td>\n",
       "      <td>3.39</td>\n",
       "      <td>17850.0</td>\n",
       "      <td>United Kingdom</td>\n",
       "      <td>2010</td>\n",
       "      <td>12</td>\n",
       "      <td>1</td>\n",
       "      <td>8</td>\n",
       "      <td>26</td>\n",
       "      <td>December</td>\n",
       "      <td>Wednesday</td>\n",
       "      <td>20.34</td>\n",
       "      <td>Morning</td>\n",
       "    </tr>\n",
       "  </tbody>\n",
       "</table>\n",
       "</div>"
      ],
      "text/plain": [
       "  InvoiceNo StockCode                          Description  Quantity  \\\n",
       "0    536365    85123A   WHITE HANGING HEART T-LIGHT HOLDER         6   \n",
       "1    536365     71053                  WHITE METAL LANTERN         6   \n",
       "2    536365    84406B       CREAM CUPID HEARTS COAT HANGER         8   \n",
       "3    536365    84029G  KNITTED UNION FLAG HOT WATER BOTTLE         6   \n",
       "4    536365    84029E       RED WOOLLY HOTTIE WHITE HEART.         6   \n",
       "\n",
       "          InvoiceDate  UnitPrice  CustomerID         Country  year  Month_num  \\\n",
       "0 2010-12-01 08:26:00       2.55     17850.0  United Kingdom  2010         12   \n",
       "1 2010-12-01 08:26:00       3.39     17850.0  United Kingdom  2010         12   \n",
       "2 2010-12-01 08:26:00       2.75     17850.0  United Kingdom  2010         12   \n",
       "3 2010-12-01 08:26:00       3.39     17850.0  United Kingdom  2010         12   \n",
       "4 2010-12-01 08:26:00       3.39     17850.0  United Kingdom  2010         12   \n",
       "\n",
       "   Day_num  hour  minute     Month        Day  TotalAmount Day_time_type  \n",
       "0        1     8      26  December  Wednesday        15.30       Morning  \n",
       "1        1     8      26  December  Wednesday        20.34       Morning  \n",
       "2        1     8      26  December  Wednesday        22.00       Morning  \n",
       "3        1     8      26  December  Wednesday        20.34       Morning  \n",
       "4        1     8      26  December  Wednesday        20.34       Morning  "
      ]
     },
     "execution_count": 52,
     "metadata": {},
     "output_type": "execute_result"
    }
   ],
   "source": [
    "rfm_dataframe.head()"
   ]
  },
  {
   "cell_type": "code",
   "execution_count": 53,
   "id": "c1a87e8e",
   "metadata": {},
   "outputs": [
    {
     "data": {
      "text/html": [
       "<div>\n",
       "<style scoped>\n",
       "    .dataframe tbody tr th:only-of-type {\n",
       "        vertical-align: middle;\n",
       "    }\n",
       "\n",
       "    .dataframe tbody tr th {\n",
       "        vertical-align: top;\n",
       "    }\n",
       "\n",
       "    .dataframe thead th {\n",
       "        text-align: right;\n",
       "    }\n",
       "</style>\n",
       "<table border=\"1\" class=\"dataframe\">\n",
       "  <thead>\n",
       "    <tr style=\"text-align: right;\">\n",
       "      <th></th>\n",
       "      <th>CustomerID</th>\n",
       "      <th>Recency</th>\n",
       "      <th>Frequency</th>\n",
       "      <th>Monetary</th>\n",
       "    </tr>\n",
       "  </thead>\n",
       "  <tbody>\n",
       "    <tr>\n",
       "      <th>0</th>\n",
       "      <td>12346.0</td>\n",
       "      <td>325</td>\n",
       "      <td>1</td>\n",
       "      <td>77183.60</td>\n",
       "    </tr>\n",
       "    <tr>\n",
       "      <th>1</th>\n",
       "      <td>12347.0</td>\n",
       "      <td>2</td>\n",
       "      <td>182</td>\n",
       "      <td>4310.00</td>\n",
       "    </tr>\n",
       "    <tr>\n",
       "      <th>2</th>\n",
       "      <td>12348.0</td>\n",
       "      <td>75</td>\n",
       "      <td>31</td>\n",
       "      <td>1797.24</td>\n",
       "    </tr>\n",
       "    <tr>\n",
       "      <th>3</th>\n",
       "      <td>12349.0</td>\n",
       "      <td>18</td>\n",
       "      <td>73</td>\n",
       "      <td>1757.55</td>\n",
       "    </tr>\n",
       "    <tr>\n",
       "      <th>4</th>\n",
       "      <td>12350.0</td>\n",
       "      <td>310</td>\n",
       "      <td>17</td>\n",
       "      <td>334.40</td>\n",
       "    </tr>\n",
       "  </tbody>\n",
       "</table>\n",
       "</div>"
      ],
      "text/plain": [
       "   CustomerID  Recency  Frequency  Monetary\n",
       "0     12346.0      325          1  77183.60\n",
       "1     12347.0        2        182   4310.00\n",
       "2     12348.0       75         31   1797.24\n",
       "3     12349.0       18         73   1757.55\n",
       "4     12350.0      310         17    334.40"
      ]
     },
     "execution_count": 53,
     "metadata": {},
     "output_type": "execute_result"
    }
   ],
   "source": [
    "#Recency = Latest Date - Last Inovice Data, Frequency = count of invoice no. of transaction(s), Monetary = Sum of Total \n",
    "#Amount for each customer\n",
    "import datetime as dt\n",
    "\n",
    "#Set Latest date 2011-12-10 as last invoice date was 2011-12-09. This is to calculate the number of days from recent purchase\n",
    "Latest_Date = dt.datetime(2011,12,10)\n",
    "\n",
    "#Create RFM Modelling scores for each customer\n",
    "rfm_dataframe = data.groupby('CustomerID').agg({'InvoiceDate': lambda x: (Latest_Date - x.max()).days, 'InvoiceNo': lambda x: len(x), 'TotalAmount': lambda x: x.sum()})\n",
    "\n",
    "#Convert Invoice Date into type int\n",
    "rfm_dataframe['InvoiceDate'] = rfm_dataframe['InvoiceDate'].astype(int)\n",
    "\n",
    "#Rename column names to Recency, Frequency and Monetary\n",
    "rfm_dataframe.rename(columns={'InvoiceDate': 'Recency', \n",
    "                         'InvoiceNo': 'Frequency', \n",
    "                         'TotalAmount': 'Monetary'}, inplace=True)\n",
    "\n",
    "rfm_dataframe.reset_index().head()"
   ]
  },
  {
   "cell_type": "code",
   "execution_count": 54,
   "id": "cc32f03c",
   "metadata": {},
   "outputs": [
    {
     "data": {
      "text/plain": [
       "count    4338.000000\n",
       "mean       92.059474\n",
       "std       100.012264\n",
       "min         0.000000\n",
       "25%        17.000000\n",
       "50%        50.000000\n",
       "75%       141.750000\n",
       "max       373.000000\n",
       "Name: Recency, dtype: float64"
      ]
     },
     "execution_count": 54,
     "metadata": {},
     "output_type": "execute_result"
    }
   ],
   "source": [
    "# Descriptive Stats= Recency\n",
    "rfm_dataframe.Recency.describe()"
   ]
  },
  {
   "cell_type": "code",
   "execution_count": 55,
   "id": "87cd5618",
   "metadata": {
    "scrolled": true
   },
   "outputs": [
    {
     "data": {
      "image/png": "[encoded data removed]",
      "text/plain": [
       "<Figure size 864x432 with 1 Axes>"
      ]
     },
     "metadata": {
      "needs_background": "light"
     },
     "output_type": "display_data"
    }
   ],
   "source": [
    "plt.figure(figsize=(12,6))\n",
    "sns.distplot(x=rfm_dataframe['Recency'])\n",
    "plt.title('Distribution of Recency');"
   ]
  },
  {
   "cell_type": "code",
   "execution_count": 56,
   "id": "d5c92493",
   "metadata": {},
   "outputs": [
    {
     "data": {
      "text/plain": [
       "count    4338.000000\n",
       "mean       91.720609\n",
       "std       228.785094\n",
       "min         1.000000\n",
       "25%        17.000000\n",
       "50%        41.000000\n",
       "75%       100.000000\n",
       "max      7847.000000\n",
       "Name: Frequency, dtype: float64"
      ]
     },
     "execution_count": 56,
     "metadata": {},
     "output_type": "execute_result"
    }
   ],
   "source": [
    "# Descriptive Stats= Frequency\n",
    "rfm_dataframe['Frequency'].describe()"
   ]
  },
  {
   "cell_type": "code",
   "execution_count": 57,
   "id": "b7dcc826",
   "metadata": {},
   "outputs": [
    {
     "data": {
      "image/png": "[encoded data removed]",
      "text/plain": [
       "<Figure size 864x432 with 1 Axes>"
      ]
     },
     "metadata": {
      "needs_background": "light"
     },
     "output_type": "display_data"
    }
   ],
   "source": [
    "plt.figure(figsize=(12,6))\n",
    "sns.distplot(x=rfm_dataframe['Frequency'])\n",
    "plt.title('Distribution of Frequency');"
   ]
  },
  {
   "cell_type": "code",
   "execution_count": 58,
   "id": "69327a01",
   "metadata": {},
   "outputs": [
    {
     "data": {
      "text/plain": [
       "count      4338.000000\n",
       "mean       2054.266460\n",
       "std        8989.230441\n",
       "min           3.750000\n",
       "25%         307.415000\n",
       "50%         674.485000\n",
       "75%        1661.740000\n",
       "max      280206.020000\n",
       "Name: Monetary, dtype: float64"
      ]
     },
     "execution_count": 58,
     "metadata": {},
     "output_type": "execute_result"
    }
   ],
   "source": [
    "rfm_dataframe['Monetary'].describe()"
   ]
  },
  {
   "cell_type": "code",
   "execution_count": 59,
   "id": "4eadfe27",
   "metadata": {},
   "outputs": [
    {
     "data": {
      "image/png": "[encoded data removed]",
      "text/plain": [
       "<Figure size 864x432 with 1 Axes>"
      ]
     },
     "metadata": {
      "needs_background": "light"
     },
     "output_type": "display_data"
    }
   ],
   "source": [
    "plt.figure(figsize=(12,6))\n",
    "sns.distplot(x=rfm_dataframe['Monetary'])\n",
    "plt.title('Distribution of Monetary');"
   ]
  },
  {
   "cell_type": "code",
   "execution_count": 60,
   "id": "e4df1183",
   "metadata": {},
   "outputs": [],
   "source": [
    "# Split the data into four segment using Quantile\n",
    "quantile = rfm_dataframe.quantile(q = [0.25,0.50,0.75])"
   ]
  },
  {
   "cell_type": "code",
   "execution_count": 61,
   "id": "0296888a",
   "metadata": {},
   "outputs": [
    {
     "data": {
      "text/html": [
       "<div>\n",
       "<style scoped>\n",
       "    .dataframe tbody tr th:only-of-type {\n",
       "        vertical-align: middle;\n",
       "    }\n",
       "\n",
       "    .dataframe tbody tr th {\n",
       "        vertical-align: top;\n",
       "    }\n",
       "\n",
       "    .dataframe thead th {\n",
       "        text-align: right;\n",
       "    }\n",
       "</style>\n",
       "<table border=\"1\" class=\"dataframe\">\n",
       "  <thead>\n",
       "    <tr style=\"text-align: right;\">\n",
       "      <th></th>\n",
       "      <th>Recency</th>\n",
       "      <th>Frequency</th>\n",
       "      <th>Monetary</th>\n",
       "    </tr>\n",
       "  </thead>\n",
       "  <tbody>\n",
       "    <tr>\n",
       "      <th>0.25</th>\n",
       "      <td>17.00</td>\n",
       "      <td>17.0</td>\n",
       "      <td>307.415</td>\n",
       "    </tr>\n",
       "    <tr>\n",
       "      <th>0.50</th>\n",
       "      <td>50.00</td>\n",
       "      <td>41.0</td>\n",
       "      <td>674.485</td>\n",
       "    </tr>\n",
       "    <tr>\n",
       "      <th>0.75</th>\n",
       "      <td>141.75</td>\n",
       "      <td>100.0</td>\n",
       "      <td>1661.740</td>\n",
       "    </tr>\n",
       "  </tbody>\n",
       "</table>\n",
       "</div>"
      ],
      "text/plain": [
       "      Recency  Frequency  Monetary\n",
       "0.25    17.00       17.0   307.415\n",
       "0.50    50.00       41.0   674.485\n",
       "0.75   141.75      100.0  1661.740"
      ]
     },
     "execution_count": 61,
     "metadata": {},
     "output_type": "execute_result"
    }
   ],
   "source": [
    "quantile"
   ]
  },
  {
   "cell_type": "code",
   "execution_count": 62,
   "id": "abe34179",
   "metadata": {},
   "outputs": [],
   "source": [
    "def RScoring(x,p,d):\n",
    "    if x <= d[p][0.25]:\n",
    "        return 1                               \n",
    "    elif x <= d[p][0.50]:\n",
    "        return 2\n",
    "    elif x <= d[p][0.75]: \n",
    "        return 3\n",
    "    else:\n",
    "        return 4\n",
    "\n",
    "        # arguments (x = value, p = recency, monetary_value, frequency, d = quartiles dict)\n",
    "        # higher value of frequency and monetary lead to a good consumer. Here higher value = 1 in reverse way.\n",
    "    \n",
    "def FnMScoring(x,p,d):\n",
    "    if x <= d[p][0.25]:\n",
    "        return 4\n",
    "    elif x <= d[p][0.50]:\n",
    "        return 3\n",
    "    elif x <= d[p][0.75]: \n",
    "        return 2\n",
    "    else:\n",
    "        return 1"
   ]
  },
  {
   "cell_type": "code",
   "execution_count": 63,
   "id": "40d3a9c3",
   "metadata": {
    "scrolled": true
   },
   "outputs": [
    {
     "data": {
      "text/html": [
       "<div>\n",
       "<style scoped>\n",
       "    .dataframe tbody tr th:only-of-type {\n",
       "        vertical-align: middle;\n",
       "    }\n",
       "\n",
       "    .dataframe tbody tr th {\n",
       "        vertical-align: top;\n",
       "    }\n",
       "\n",
       "    .dataframe thead th {\n",
       "        text-align: right;\n",
       "    }\n",
       "</style>\n",
       "<table border=\"1\" class=\"dataframe\">\n",
       "  <thead>\n",
       "    <tr style=\"text-align: right;\">\n",
       "      <th></th>\n",
       "      <th>Recency</th>\n",
       "      <th>Frequency</th>\n",
       "      <th>Monetary</th>\n",
       "      <th>R</th>\n",
       "      <th>F</th>\n",
       "      <th>M</th>\n",
       "    </tr>\n",
       "    <tr>\n",
       "      <th>CustomerID</th>\n",
       "      <th></th>\n",
       "      <th></th>\n",
       "      <th></th>\n",
       "      <th></th>\n",
       "      <th></th>\n",
       "      <th></th>\n",
       "    </tr>\n",
       "  </thead>\n",
       "  <tbody>\n",
       "    <tr>\n",
       "      <th>12346.0</th>\n",
       "      <td>325</td>\n",
       "      <td>1</td>\n",
       "      <td>77183.60</td>\n",
       "      <td>4</td>\n",
       "      <td>4</td>\n",
       "      <td>1</td>\n",
       "    </tr>\n",
       "    <tr>\n",
       "      <th>12347.0</th>\n",
       "      <td>2</td>\n",
       "      <td>182</td>\n",
       "      <td>4310.00</td>\n",
       "      <td>1</td>\n",
       "      <td>1</td>\n",
       "      <td>1</td>\n",
       "    </tr>\n",
       "    <tr>\n",
       "      <th>12348.0</th>\n",
       "      <td>75</td>\n",
       "      <td>31</td>\n",
       "      <td>1797.24</td>\n",
       "      <td>3</td>\n",
       "      <td>3</td>\n",
       "      <td>1</td>\n",
       "    </tr>\n",
       "    <tr>\n",
       "      <th>12349.0</th>\n",
       "      <td>18</td>\n",
       "      <td>73</td>\n",
       "      <td>1757.55</td>\n",
       "      <td>2</td>\n",
       "      <td>2</td>\n",
       "      <td>1</td>\n",
       "    </tr>\n",
       "    <tr>\n",
       "      <th>12350.0</th>\n",
       "      <td>310</td>\n",
       "      <td>17</td>\n",
       "      <td>334.40</td>\n",
       "      <td>4</td>\n",
       "      <td>4</td>\n",
       "      <td>3</td>\n",
       "    </tr>\n",
       "  </tbody>\n",
       "</table>\n",
       "</div>"
      ],
      "text/plain": [
       "            Recency  Frequency  Monetary  R  F  M\n",
       "CustomerID                                       \n",
       "12346.0         325          1  77183.60  4  4  1\n",
       "12347.0           2        182   4310.00  1  1  1\n",
       "12348.0          75         31   1797.24  3  3  1\n",
       "12349.0          18         73   1757.55  2  2  1\n",
       "12350.0         310         17    334.40  4  4  3"
      ]
     },
     "execution_count": 63,
     "metadata": {},
     "output_type": "execute_result"
    }
   ],
   "source": [
    "# Calculating and adding R,F and M segments values columns in the existing dataset to show R,F,M segment values\n",
    "rfm_dataframe[\"R\"] = rfm_dataframe['Recency'].apply(RScoring,args=('Recency',quantile,))\n",
    "rfm_dataframe[\"F\"] = rfm_dataframe['Frequency'].apply(FnMScoring,args=('Frequency',quantile,))\n",
    "rfm_dataframe[\"M\"] = rfm_dataframe['Monetary'].apply(FnMScoring,args=('Monetary',quantile,))\n",
    "rfm_dataframe.head()"
   ]
  },
  {
   "cell_type": "code",
   "execution_count": 64,
   "id": "6d090c13",
   "metadata": {},
   "outputs": [],
   "source": [
    "# Add a new column to combine RFM score\n",
    "rfm_dataframe['RFM_Group'] = rfm_dataframe.R.map(str)+rfm_dataframe.F.map(str)+rfm_dataframe.M.map(str)"
   ]
  },
  {
   "cell_type": "code",
   "execution_count": 65,
   "id": "3bdeb7c3",
   "metadata": {},
   "outputs": [
    {
     "data": {
      "text/html": [
       "<div>\n",
       "<style scoped>\n",
       "    .dataframe tbody tr th:only-of-type {\n",
       "        vertical-align: middle;\n",
       "    }\n",
       "\n",
       "    .dataframe tbody tr th {\n",
       "        vertical-align: top;\n",
       "    }\n",
       "\n",
       "    .dataframe thead th {\n",
       "        text-align: right;\n",
       "    }\n",
       "</style>\n",
       "<table border=\"1\" class=\"dataframe\">\n",
       "  <thead>\n",
       "    <tr style=\"text-align: right;\">\n",
       "      <th></th>\n",
       "      <th>Recency</th>\n",
       "      <th>Frequency</th>\n",
       "      <th>Monetary</th>\n",
       "      <th>R</th>\n",
       "      <th>F</th>\n",
       "      <th>M</th>\n",
       "      <th>RFM_Group</th>\n",
       "      <th>RFM_Score</th>\n",
       "    </tr>\n",
       "    <tr>\n",
       "      <th>CustomerID</th>\n",
       "      <th></th>\n",
       "      <th></th>\n",
       "      <th></th>\n",
       "      <th></th>\n",
       "      <th></th>\n",
       "      <th></th>\n",
       "      <th></th>\n",
       "      <th></th>\n",
       "    </tr>\n",
       "  </thead>\n",
       "  <tbody>\n",
       "    <tr>\n",
       "      <th>12346.0</th>\n",
       "      <td>325</td>\n",
       "      <td>1</td>\n",
       "      <td>77183.60</td>\n",
       "      <td>4</td>\n",
       "      <td>4</td>\n",
       "      <td>1</td>\n",
       "      <td>441</td>\n",
       "      <td>9</td>\n",
       "    </tr>\n",
       "    <tr>\n",
       "      <th>12347.0</th>\n",
       "      <td>2</td>\n",
       "      <td>182</td>\n",
       "      <td>4310.00</td>\n",
       "      <td>1</td>\n",
       "      <td>1</td>\n",
       "      <td>1</td>\n",
       "      <td>111</td>\n",
       "      <td>3</td>\n",
       "    </tr>\n",
       "    <tr>\n",
       "      <th>12348.0</th>\n",
       "      <td>75</td>\n",
       "      <td>31</td>\n",
       "      <td>1797.24</td>\n",
       "      <td>3</td>\n",
       "      <td>3</td>\n",
       "      <td>1</td>\n",
       "      <td>331</td>\n",
       "      <td>7</td>\n",
       "    </tr>\n",
       "    <tr>\n",
       "      <th>12349.0</th>\n",
       "      <td>18</td>\n",
       "      <td>73</td>\n",
       "      <td>1757.55</td>\n",
       "      <td>2</td>\n",
       "      <td>2</td>\n",
       "      <td>1</td>\n",
       "      <td>221</td>\n",
       "      <td>5</td>\n",
       "    </tr>\n",
       "    <tr>\n",
       "      <th>12350.0</th>\n",
       "      <td>310</td>\n",
       "      <td>17</td>\n",
       "      <td>334.40</td>\n",
       "      <td>4</td>\n",
       "      <td>4</td>\n",
       "      <td>3</td>\n",
       "      <td>443</td>\n",
       "      <td>11</td>\n",
       "    </tr>\n",
       "  </tbody>\n",
       "</table>\n",
       "</div>"
      ],
      "text/plain": [
       "            Recency  Frequency  Monetary  R  F  M RFM_Group  RFM_Score\n",
       "CustomerID                                                            \n",
       "12346.0         325          1  77183.60  4  4  1       441          9\n",
       "12347.0           2        182   4310.00  1  1  1       111          3\n",
       "12348.0          75         31   1797.24  3  3  1       331          7\n",
       "12349.0          18         73   1757.55  2  2  1       221          5\n",
       "12350.0         310         17    334.40  4  4  3       443         11"
      ]
     },
     "execution_count": 65,
     "metadata": {},
     "output_type": "execute_result"
    }
   ],
   "source": [
    "#Calculate and Add RFMScore value column showing total sum of RFMGroup values\n",
    "rfm_dataframe['RFM_Score'] = rfm_dataframe[['R', 'F', 'M']].sum(axis = 1)\n",
    "rfm_dataframe.head()"
   ]
  },
  {
   "cell_type": "code",
   "execution_count": 66,
   "id": "81411961",
   "metadata": {},
   "outputs": [
    {
     "name": "stdout",
     "output_type": "stream",
     "text": [
      "<class 'pandas.core.frame.DataFrame'>\n",
      "Float64Index: 4338 entries, 12346.0 to 18287.0\n",
      "Data columns (total 8 columns):\n",
      " #   Column     Non-Null Count  Dtype  \n",
      "---  ------     --------------  -----  \n",
      " 0   Recency    4338 non-null   int32  \n",
      " 1   Frequency  4338 non-null   int64  \n",
      " 2   Monetary   4338 non-null   float64\n",
      " 3   R          4338 non-null   int64  \n",
      " 4   F          4338 non-null   int64  \n",
      " 5   M          4338 non-null   int64  \n",
      " 6   RFM_Group  4338 non-null   object \n",
      " 7   RFM_Score  4338 non-null   int64  \n",
      "dtypes: float64(1), int32(1), int64(5), object(1)\n",
      "memory usage: 288.1+ KB\n"
     ]
    }
   ],
   "source": [
    "rfm_dataframe.info()"
   ]
  },
  {
   "cell_type": "code",
   "execution_count": 67,
   "id": "5ebab708",
   "metadata": {},
   "outputs": [
    {
     "data": {
      "text/plain": [
       "array([ 9,  3,  7,  5, 11, 12,  8,  4,  6, 10], dtype=int64)"
      ]
     },
     "execution_count": 67,
     "metadata": {},
     "output_type": "execute_result"
    }
   ],
   "source": [
    "rfm_dataframe['RFM_Score'].unique()"
   ]
  },
  {
   "cell_type": "code",
   "execution_count": 68,
   "id": "5dac46bf",
   "metadata": {},
   "outputs": [
    {
     "data": {
      "text/html": [
       "<div>\n",
       "<style scoped>\n",
       "    .dataframe tbody tr th:only-of-type {\n",
       "        vertical-align: middle;\n",
       "    }\n",
       "\n",
       "    .dataframe tbody tr th {\n",
       "        vertical-align: top;\n",
       "    }\n",
       "\n",
       "    .dataframe thead th {\n",
       "        text-align: right;\n",
       "    }\n",
       "</style>\n",
       "<table border=\"1\" class=\"dataframe\">\n",
       "  <thead>\n",
       "    <tr style=\"text-align: right;\">\n",
       "      <th></th>\n",
       "      <th>CustomerID</th>\n",
       "      <th>Recency</th>\n",
       "      <th>Frequency</th>\n",
       "      <th>Monetary</th>\n",
       "      <th>R</th>\n",
       "      <th>F</th>\n",
       "      <th>M</th>\n",
       "      <th>RFM_Group</th>\n",
       "      <th>RFM_Score</th>\n",
       "      <th>RFM_Loyalty_Level</th>\n",
       "    </tr>\n",
       "  </thead>\n",
       "  <tbody>\n",
       "    <tr>\n",
       "      <th>0</th>\n",
       "      <td>12346.0</td>\n",
       "      <td>325</td>\n",
       "      <td>1</td>\n",
       "      <td>77183.60</td>\n",
       "      <td>4</td>\n",
       "      <td>4</td>\n",
       "      <td>1</td>\n",
       "      <td>441</td>\n",
       "      <td>9</td>\n",
       "      <td>Silver</td>\n",
       "    </tr>\n",
       "    <tr>\n",
       "      <th>1</th>\n",
       "      <td>12347.0</td>\n",
       "      <td>2</td>\n",
       "      <td>182</td>\n",
       "      <td>4310.00</td>\n",
       "      <td>1</td>\n",
       "      <td>1</td>\n",
       "      <td>1</td>\n",
       "      <td>111</td>\n",
       "      <td>3</td>\n",
       "      <td>Platinaum</td>\n",
       "    </tr>\n",
       "    <tr>\n",
       "      <th>2</th>\n",
       "      <td>12348.0</td>\n",
       "      <td>75</td>\n",
       "      <td>31</td>\n",
       "      <td>1797.24</td>\n",
       "      <td>3</td>\n",
       "      <td>3</td>\n",
       "      <td>1</td>\n",
       "      <td>331</td>\n",
       "      <td>7</td>\n",
       "      <td>Gold</td>\n",
       "    </tr>\n",
       "    <tr>\n",
       "      <th>3</th>\n",
       "      <td>12349.0</td>\n",
       "      <td>18</td>\n",
       "      <td>73</td>\n",
       "      <td>1757.55</td>\n",
       "      <td>2</td>\n",
       "      <td>2</td>\n",
       "      <td>1</td>\n",
       "      <td>221</td>\n",
       "      <td>5</td>\n",
       "      <td>Platinaum</td>\n",
       "    </tr>\n",
       "    <tr>\n",
       "      <th>4</th>\n",
       "      <td>12350.0</td>\n",
       "      <td>310</td>\n",
       "      <td>17</td>\n",
       "      <td>334.40</td>\n",
       "      <td>4</td>\n",
       "      <td>4</td>\n",
       "      <td>3</td>\n",
       "      <td>443</td>\n",
       "      <td>11</td>\n",
       "      <td>Bronz</td>\n",
       "    </tr>\n",
       "  </tbody>\n",
       "</table>\n",
       "</div>"
      ],
      "text/plain": [
       "   CustomerID  Recency  Frequency  Monetary  R  F  M RFM_Group  RFM_Score  \\\n",
       "0     12346.0      325          1  77183.60  4  4  1       441          9   \n",
       "1     12347.0        2        182   4310.00  1  1  1       111          3   \n",
       "2     12348.0       75         31   1797.24  3  3  1       331          7   \n",
       "3     12349.0       18         73   1757.55  2  2  1       221          5   \n",
       "4     12350.0      310         17    334.40  4  4  3       443         11   \n",
       "\n",
       "  RFM_Loyalty_Level  \n",
       "0            Silver  \n",
       "1         Platinaum  \n",
       "2              Gold  \n",
       "3         Platinaum  \n",
       "4             Bronz  "
      ]
     },
     "execution_count": 68,
     "metadata": {},
     "output_type": "execute_result"
    }
   ],
   "source": [
    "# Assign Loyelty Level to each customer\n",
    "Loyalty_Level = ['Platinaum','Gold','Silver','Bronz']\n",
    "\n",
    "Score_cut = pd.qcut(rfm_dataframe['RFM_Score'],q = 4,labels=Loyalty_Level)\n",
    "rfm_dataframe['RFM_Loyalty_Level'] = Score_cut.values\n",
    "rfm_dataframe.reset_index().head()"
   ]
  },
  {
   "cell_type": "code",
   "execution_count": 69,
   "id": "5f7fb421",
   "metadata": {},
   "outputs": [
    {
     "data": {
      "text/plain": [
       "array([ 9,  3,  7,  5, 11, 12,  8,  4,  6, 10], dtype=int64)"
      ]
     },
     "execution_count": 69,
     "metadata": {},
     "output_type": "execute_result"
    }
   ],
   "source": [
    "rfm_dataframe['RFM_Score'].unique()"
   ]
  },
  {
   "cell_type": "code",
   "execution_count": 70,
   "id": "d88bc4b7",
   "metadata": {},
   "outputs": [
    {
     "data": {
      "text/html": [
       "<div>\n",
       "<style scoped>\n",
       "    .dataframe tbody tr th:only-of-type {\n",
       "        vertical-align: middle;\n",
       "    }\n",
       "\n",
       "    .dataframe tbody tr th {\n",
       "        vertical-align: top;\n",
       "    }\n",
       "\n",
       "    .dataframe thead th {\n",
       "        text-align: right;\n",
       "    }\n",
       "</style>\n",
       "<table border=\"1\" class=\"dataframe\">\n",
       "  <thead>\n",
       "    <tr style=\"text-align: right;\">\n",
       "      <th></th>\n",
       "      <th>CustomerID</th>\n",
       "      <th>Recency</th>\n",
       "      <th>Frequency</th>\n",
       "      <th>Monetary</th>\n",
       "      <th>R</th>\n",
       "      <th>F</th>\n",
       "      <th>M</th>\n",
       "      <th>RFM_Group</th>\n",
       "      <th>RFM_Score</th>\n",
       "      <th>RFM_Loyalty_Level</th>\n",
       "    </tr>\n",
       "  </thead>\n",
       "  <tbody>\n",
       "    <tr>\n",
       "      <th>0</th>\n",
       "      <td>14646.0</td>\n",
       "      <td>1</td>\n",
       "      <td>2076</td>\n",
       "      <td>280206.02</td>\n",
       "      <td>1</td>\n",
       "      <td>1</td>\n",
       "      <td>1</td>\n",
       "      <td>111</td>\n",
       "      <td>3</td>\n",
       "      <td>Platinaum</td>\n",
       "    </tr>\n",
       "    <tr>\n",
       "      <th>1</th>\n",
       "      <td>18102.0</td>\n",
       "      <td>0</td>\n",
       "      <td>431</td>\n",
       "      <td>259657.30</td>\n",
       "      <td>1</td>\n",
       "      <td>1</td>\n",
       "      <td>1</td>\n",
       "      <td>111</td>\n",
       "      <td>3</td>\n",
       "      <td>Platinaum</td>\n",
       "    </tr>\n",
       "    <tr>\n",
       "      <th>2</th>\n",
       "      <td>17450.0</td>\n",
       "      <td>8</td>\n",
       "      <td>337</td>\n",
       "      <td>194550.79</td>\n",
       "      <td>1</td>\n",
       "      <td>1</td>\n",
       "      <td>1</td>\n",
       "      <td>111</td>\n",
       "      <td>3</td>\n",
       "      <td>Platinaum</td>\n",
       "    </tr>\n",
       "    <tr>\n",
       "      <th>3</th>\n",
       "      <td>14911.0</td>\n",
       "      <td>1</td>\n",
       "      <td>5675</td>\n",
       "      <td>143825.06</td>\n",
       "      <td>1</td>\n",
       "      <td>1</td>\n",
       "      <td>1</td>\n",
       "      <td>111</td>\n",
       "      <td>3</td>\n",
       "      <td>Platinaum</td>\n",
       "    </tr>\n",
       "    <tr>\n",
       "      <th>4</th>\n",
       "      <td>14156.0</td>\n",
       "      <td>9</td>\n",
       "      <td>1400</td>\n",
       "      <td>117379.63</td>\n",
       "      <td>1</td>\n",
       "      <td>1</td>\n",
       "      <td>1</td>\n",
       "      <td>111</td>\n",
       "      <td>3</td>\n",
       "      <td>Platinaum</td>\n",
       "    </tr>\n",
       "    <tr>\n",
       "      <th>5</th>\n",
       "      <td>17511.0</td>\n",
       "      <td>2</td>\n",
       "      <td>963</td>\n",
       "      <td>91062.38</td>\n",
       "      <td>1</td>\n",
       "      <td>1</td>\n",
       "      <td>1</td>\n",
       "      <td>111</td>\n",
       "      <td>3</td>\n",
       "      <td>Platinaum</td>\n",
       "    </tr>\n",
       "    <tr>\n",
       "      <th>6</th>\n",
       "      <td>16684.0</td>\n",
       "      <td>4</td>\n",
       "      <td>277</td>\n",
       "      <td>66653.56</td>\n",
       "      <td>1</td>\n",
       "      <td>1</td>\n",
       "      <td>1</td>\n",
       "      <td>111</td>\n",
       "      <td>3</td>\n",
       "      <td>Platinaum</td>\n",
       "    </tr>\n",
       "    <tr>\n",
       "      <th>7</th>\n",
       "      <td>14096.0</td>\n",
       "      <td>4</td>\n",
       "      <td>5111</td>\n",
       "      <td>65164.79</td>\n",
       "      <td>1</td>\n",
       "      <td>1</td>\n",
       "      <td>1</td>\n",
       "      <td>111</td>\n",
       "      <td>3</td>\n",
       "      <td>Platinaum</td>\n",
       "    </tr>\n",
       "    <tr>\n",
       "      <th>8</th>\n",
       "      <td>13694.0</td>\n",
       "      <td>3</td>\n",
       "      <td>568</td>\n",
       "      <td>65039.62</td>\n",
       "      <td>1</td>\n",
       "      <td>1</td>\n",
       "      <td>1</td>\n",
       "      <td>111</td>\n",
       "      <td>3</td>\n",
       "      <td>Platinaum</td>\n",
       "    </tr>\n",
       "    <tr>\n",
       "      <th>9</th>\n",
       "      <td>15311.0</td>\n",
       "      <td>0</td>\n",
       "      <td>2379</td>\n",
       "      <td>60767.90</td>\n",
       "      <td>1</td>\n",
       "      <td>1</td>\n",
       "      <td>1</td>\n",
       "      <td>111</td>\n",
       "      <td>3</td>\n",
       "      <td>Platinaum</td>\n",
       "    </tr>\n",
       "  </tbody>\n",
       "</table>\n",
       "</div>"
      ],
      "text/plain": [
       "   CustomerID  Recency  Frequency   Monetary  R  F  M RFM_Group  RFM_Score  \\\n",
       "0     14646.0        1       2076  280206.02  1  1  1       111          3   \n",
       "1     18102.0        0        431  259657.30  1  1  1       111          3   \n",
       "2     17450.0        8        337  194550.79  1  1  1       111          3   \n",
       "3     14911.0        1       5675  143825.06  1  1  1       111          3   \n",
       "4     14156.0        9       1400  117379.63  1  1  1       111          3   \n",
       "5     17511.0        2        963   91062.38  1  1  1       111          3   \n",
       "6     16684.0        4        277   66653.56  1  1  1       111          3   \n",
       "7     14096.0        4       5111   65164.79  1  1  1       111          3   \n",
       "8     13694.0        3        568   65039.62  1  1  1       111          3   \n",
       "9     15311.0        0       2379   60767.90  1  1  1       111          3   \n",
       "\n",
       "  RFM_Loyalty_Level  \n",
       "0         Platinaum  \n",
       "1         Platinaum  \n",
       "2         Platinaum  \n",
       "3         Platinaum  \n",
       "4         Platinaum  \n",
       "5         Platinaum  \n",
       "6         Platinaum  \n",
       "7         Platinaum  \n",
       "8         Platinaum  \n",
       "9         Platinaum  "
      ]
     },
     "execution_count": 70,
     "metadata": {},
     "output_type": "execute_result"
    }
   ],
   "source": [
    "# Validate the data For RFM group = 111\n",
    "rfm_dataframe[rfm_dataframe['RFM_Group'] == '111'].sort_values(\"Monetary\",ascending = False).reset_index().head(10)"
   ]
  },
  {
   "cell_type": "code",
   "execution_count": 71,
   "id": "b6b9abd2",
   "metadata": {},
   "outputs": [
    {
     "data": {
      "image/png": "[encoded data removed]",
      "text/plain": [
       "<Figure size 720x216 with 1 Axes>"
      ]
     },
     "metadata": {
      "needs_background": "light"
     },
     "output_type": "display_data"
    }
   ],
   "source": [
    "# Plot the loyelty level\n",
    "plt.figure(figsize=(10,3))\n",
    "sns.countplot(rfm_dataframe['RFM_Loyalty_Level'])\n",
    "plt.title('Loyalty Level of Customers')\n",
    "plt.show()"
   ]
  },
  {
   "cell_type": "code",
   "execution_count": 72,
   "id": "654faf34",
   "metadata": {},
   "outputs": [
    {
     "data": {
      "text/html": [
       "<div>\n",
       "<style scoped>\n",
       "    .dataframe tbody tr th:only-of-type {\n",
       "        vertical-align: middle;\n",
       "    }\n",
       "\n",
       "    .dataframe tbody tr th {\n",
       "        vertical-align: top;\n",
       "    }\n",
       "\n",
       "    .dataframe thead th {\n",
       "        text-align: right;\n",
       "    }\n",
       "</style>\n",
       "<table border=\"1\" class=\"dataframe\">\n",
       "  <thead>\n",
       "    <tr style=\"text-align: right;\">\n",
       "      <th></th>\n",
       "      <th>CustomerID</th>\n",
       "      <th>Recency</th>\n",
       "      <th>Frequency</th>\n",
       "      <th>Monetary</th>\n",
       "      <th>R</th>\n",
       "      <th>F</th>\n",
       "      <th>M</th>\n",
       "      <th>RFM_Group</th>\n",
       "      <th>RFM_Score</th>\n",
       "      <th>RFM_Loyalty_Level</th>\n",
       "    </tr>\n",
       "  </thead>\n",
       "  <tbody>\n",
       "    <tr>\n",
       "      <th>0</th>\n",
       "      <td>14646.0</td>\n",
       "      <td>1</td>\n",
       "      <td>2076</td>\n",
       "      <td>280206.02</td>\n",
       "      <td>1</td>\n",
       "      <td>1</td>\n",
       "      <td>1</td>\n",
       "      <td>111</td>\n",
       "      <td>3</td>\n",
       "      <td>Platinaum</td>\n",
       "    </tr>\n",
       "    <tr>\n",
       "      <th>1</th>\n",
       "      <td>18102.0</td>\n",
       "      <td>0</td>\n",
       "      <td>431</td>\n",
       "      <td>259657.30</td>\n",
       "      <td>1</td>\n",
       "      <td>1</td>\n",
       "      <td>1</td>\n",
       "      <td>111</td>\n",
       "      <td>3</td>\n",
       "      <td>Platinaum</td>\n",
       "    </tr>\n",
       "    <tr>\n",
       "      <th>2</th>\n",
       "      <td>17450.0</td>\n",
       "      <td>8</td>\n",
       "      <td>337</td>\n",
       "      <td>194550.79</td>\n",
       "      <td>1</td>\n",
       "      <td>1</td>\n",
       "      <td>1</td>\n",
       "      <td>111</td>\n",
       "      <td>3</td>\n",
       "      <td>Platinaum</td>\n",
       "    </tr>\n",
       "    <tr>\n",
       "      <th>3</th>\n",
       "      <td>14911.0</td>\n",
       "      <td>1</td>\n",
       "      <td>5675</td>\n",
       "      <td>143825.06</td>\n",
       "      <td>1</td>\n",
       "      <td>1</td>\n",
       "      <td>1</td>\n",
       "      <td>111</td>\n",
       "      <td>3</td>\n",
       "      <td>Platinaum</td>\n",
       "    </tr>\n",
       "    <tr>\n",
       "      <th>4</th>\n",
       "      <td>12415.0</td>\n",
       "      <td>24</td>\n",
       "      <td>714</td>\n",
       "      <td>124914.53</td>\n",
       "      <td>2</td>\n",
       "      <td>1</td>\n",
       "      <td>1</td>\n",
       "      <td>211</td>\n",
       "      <td>4</td>\n",
       "      <td>Platinaum</td>\n",
       "    </tr>\n",
       "    <tr>\n",
       "      <th>5</th>\n",
       "      <td>14156.0</td>\n",
       "      <td>9</td>\n",
       "      <td>1400</td>\n",
       "      <td>117379.63</td>\n",
       "      <td>1</td>\n",
       "      <td>1</td>\n",
       "      <td>1</td>\n",
       "      <td>111</td>\n",
       "      <td>3</td>\n",
       "      <td>Platinaum</td>\n",
       "    </tr>\n",
       "    <tr>\n",
       "      <th>6</th>\n",
       "      <td>17511.0</td>\n",
       "      <td>2</td>\n",
       "      <td>963</td>\n",
       "      <td>91062.38</td>\n",
       "      <td>1</td>\n",
       "      <td>1</td>\n",
       "      <td>1</td>\n",
       "      <td>111</td>\n",
       "      <td>3</td>\n",
       "      <td>Platinaum</td>\n",
       "    </tr>\n",
       "    <tr>\n",
       "      <th>7</th>\n",
       "      <td>16029.0</td>\n",
       "      <td>38</td>\n",
       "      <td>242</td>\n",
       "      <td>81024.84</td>\n",
       "      <td>2</td>\n",
       "      <td>1</td>\n",
       "      <td>1</td>\n",
       "      <td>211</td>\n",
       "      <td>4</td>\n",
       "      <td>Platinaum</td>\n",
       "    </tr>\n",
       "    <tr>\n",
       "      <th>8</th>\n",
       "      <td>16684.0</td>\n",
       "      <td>4</td>\n",
       "      <td>277</td>\n",
       "      <td>66653.56</td>\n",
       "      <td>1</td>\n",
       "      <td>1</td>\n",
       "      <td>1</td>\n",
       "      <td>111</td>\n",
       "      <td>3</td>\n",
       "      <td>Platinaum</td>\n",
       "    </tr>\n",
       "    <tr>\n",
       "      <th>9</th>\n",
       "      <td>14096.0</td>\n",
       "      <td>4</td>\n",
       "      <td>5111</td>\n",
       "      <td>65164.79</td>\n",
       "      <td>1</td>\n",
       "      <td>1</td>\n",
       "      <td>1</td>\n",
       "      <td>111</td>\n",
       "      <td>3</td>\n",
       "      <td>Platinaum</td>\n",
       "    </tr>\n",
       "  </tbody>\n",
       "</table>\n",
       "</div>"
      ],
      "text/plain": [
       "   CustomerID  Recency  Frequency   Monetary  R  F  M RFM_Group  RFM_Score  \\\n",
       "0     14646.0        1       2076  280206.02  1  1  1       111          3   \n",
       "1     18102.0        0        431  259657.30  1  1  1       111          3   \n",
       "2     17450.0        8        337  194550.79  1  1  1       111          3   \n",
       "3     14911.0        1       5675  143825.06  1  1  1       111          3   \n",
       "4     12415.0       24        714  124914.53  2  1  1       211          4   \n",
       "5     14156.0        9       1400  117379.63  1  1  1       111          3   \n",
       "6     17511.0        2        963   91062.38  1  1  1       111          3   \n",
       "7     16029.0       38        242   81024.84  2  1  1       211          4   \n",
       "8     16684.0        4        277   66653.56  1  1  1       111          3   \n",
       "9     14096.0        4       5111   65164.79  1  1  1       111          3   \n",
       "\n",
       "  RFM_Loyalty_Level  \n",
       "0         Platinaum  \n",
       "1         Platinaum  \n",
       "2         Platinaum  \n",
       "3         Platinaum  \n",
       "4         Platinaum  \n",
       "5         Platinaum  \n",
       "6         Platinaum  \n",
       "7         Platinaum  \n",
       "8         Platinaum  \n",
       "9         Platinaum  "
      ]
     },
     "execution_count": 72,
     "metadata": {},
     "output_type": "execute_result"
    }
   ],
   "source": [
    "#Folowing table contains our target peoples\n",
    "rfm_dataframe[rfm_dataframe['RFM_Loyalty_Level'] == 'Platinaum'].sort_values(\"Monetary\",ascending = False).reset_index().head(10)"
   ]
  },
  {
   "cell_type": "code",
   "execution_count": 73,
   "id": "2bf50c25",
   "metadata": {},
   "outputs": [],
   "source": [
    "segmentation_based_on_RFM=rfm_dataframe[['Recency','Frequency','Monetary','RFM_Loyalty_Level']]"
   ]
  },
  {
   "cell_type": "code",
   "execution_count": 74,
   "id": "ba82aee2",
   "metadata": {
    "scrolled": false
   },
   "outputs": [
    {
     "data": {
      "text/html": [
       "<div>\n",
       "<style scoped>\n",
       "    .dataframe tbody tr th:only-of-type {\n",
       "        vertical-align: middle;\n",
       "    }\n",
       "\n",
       "    .dataframe tbody tr th {\n",
       "        vertical-align: top;\n",
       "    }\n",
       "\n",
       "    .dataframe thead tr th {\n",
       "        text-align: left;\n",
       "    }\n",
       "\n",
       "    .dataframe thead tr:last-of-type th {\n",
       "        text-align: right;\n",
       "    }\n",
       "</style>\n",
       "<table border=\"1\" class=\"dataframe\">\n",
       "  <thead>\n",
       "    <tr>\n",
       "      <th></th>\n",
       "      <th colspan=\"3\" halign=\"left\">Recency</th>\n",
       "      <th colspan=\"3\" halign=\"left\">Frequency</th>\n",
       "      <th colspan=\"4\" halign=\"left\">Monetary</th>\n",
       "    </tr>\n",
       "    <tr>\n",
       "      <th></th>\n",
       "      <th>mean</th>\n",
       "      <th>min</th>\n",
       "      <th>max</th>\n",
       "      <th>mean</th>\n",
       "      <th>min</th>\n",
       "      <th>max</th>\n",
       "      <th>mean</th>\n",
       "      <th>min</th>\n",
       "      <th>max</th>\n",
       "      <th>count</th>\n",
       "    </tr>\n",
       "    <tr>\n",
       "      <th>RFM_Loyalty_Level</th>\n",
       "      <th></th>\n",
       "      <th></th>\n",
       "      <th></th>\n",
       "      <th></th>\n",
       "      <th></th>\n",
       "      <th></th>\n",
       "      <th></th>\n",
       "      <th></th>\n",
       "      <th></th>\n",
       "      <th></th>\n",
       "    </tr>\n",
       "  </thead>\n",
       "  <tbody>\n",
       "    <tr>\n",
       "      <th>Platinaum</th>\n",
       "      <td>19.412510</td>\n",
       "      <td>0</td>\n",
       "      <td>140</td>\n",
       "      <td>228.559778</td>\n",
       "      <td>20</td>\n",
       "      <td>7847</td>\n",
       "      <td>5255.277617</td>\n",
       "      <td>360.93</td>\n",
       "      <td>280206.02</td>\n",
       "      <td>1263</td>\n",
       "    </tr>\n",
       "    <tr>\n",
       "      <th>Gold</th>\n",
       "      <td>63.376133</td>\n",
       "      <td>0</td>\n",
       "      <td>372</td>\n",
       "      <td>57.959970</td>\n",
       "      <td>1</td>\n",
       "      <td>543</td>\n",
       "      <td>1169.031202</td>\n",
       "      <td>114.34</td>\n",
       "      <td>168472.50</td>\n",
       "      <td>1324</td>\n",
       "    </tr>\n",
       "    <tr>\n",
       "      <th>Silver</th>\n",
       "      <td>126.029562</td>\n",
       "      <td>1</td>\n",
       "      <td>373</td>\n",
       "      <td>24.503568</td>\n",
       "      <td>1</td>\n",
       "      <td>99</td>\n",
       "      <td>583.936944</td>\n",
       "      <td>6.90</td>\n",
       "      <td>77183.60</td>\n",
       "      <td>981</td>\n",
       "    </tr>\n",
       "    <tr>\n",
       "      <th>Bronz</th>\n",
       "      <td>217.261039</td>\n",
       "      <td>51</td>\n",
       "      <td>373</td>\n",
       "      <td>10.955844</td>\n",
       "      <td>1</td>\n",
       "      <td>41</td>\n",
       "      <td>199.159506</td>\n",
       "      <td>3.75</td>\n",
       "      <td>660.00</td>\n",
       "      <td>770</td>\n",
       "    </tr>\n",
       "  </tbody>\n",
       "</table>\n",
       "</div>"
      ],
      "text/plain": [
       "                      Recency            Frequency               Monetary  \\\n",
       "                         mean min  max        mean min   max         mean   \n",
       "RFM_Loyalty_Level                                                           \n",
       "Platinaum           19.412510   0  140  228.559778  20  7847  5255.277617   \n",
       "Gold                63.376133   0  372   57.959970   1   543  1169.031202   \n",
       "Silver             126.029562   1  373   24.503568   1    99   583.936944   \n",
       "Bronz              217.261039  51  373   10.955844   1    41   199.159506   \n",
       "\n",
       "                                            \n",
       "                      min        max count  \n",
       "RFM_Loyalty_Level                           \n",
       "Platinaum          360.93  280206.02  1263  \n",
       "Gold               114.34  168472.50  1324  \n",
       "Silver               6.90   77183.60   981  \n",
       "Bronz                3.75     660.00   770  "
      ]
     },
     "execution_count": 74,
     "metadata": {},
     "output_type": "execute_result"
    }
   ],
   "source": [
    "segmentation_based_on_RFM.groupby('RFM_Loyalty_Level').agg({\n",
    "    'Recency': ['mean', 'min', 'max'],\n",
    "    'Frequency': ['mean', 'min', 'max'],\n",
    "    'Monetary': ['mean', 'min', 'max','count']\n",
    "})"
   ]
  },
  {
   "cell_type": "markdown",
   "id": "99013adb",
   "metadata": {},
   "source": [
    "* Platinum customers=1263 ( less recency but high frequency and heavy spendings)\n",
    "* Gold customers=1324 (good recency,frequncy and moentary)\n",
    "* Silver customers=981(high recency, low frequency and low spendings)\n",
    "* Bronz customers=770 (very high recency but very less frequency and spendings)"
   ]
  },
  {
   "cell_type": "code",
   "execution_count": 75,
   "id": "c9cd489e",
   "metadata": {},
   "outputs": [],
   "source": [
    "#Handle negative and zero values so as to handle infinite numbers during log transformation\n",
    "def handle_neg_n_zero(num):\n",
    "    if num <= 0:\n",
    "        return 1\n",
    "    else:\n",
    "        return num\n",
    "#Apply handle_neg_n_zero function to Recency and Monetary columns \n",
    "rfm_dataframe['Recency'] = [handle_neg_n_zero(x) for x in rfm_dataframe.Recency]\n",
    "rfm_dataframe['Monetary'] = [handle_neg_n_zero(x) for x in rfm_dataframe.Monetary]"
   ]
  },
  {
   "cell_type": "code",
   "execution_count": 76,
   "id": "27815624",
   "metadata": {},
   "outputs": [],
   "source": [
    "#Perform Log transformation to bring data into normal or near normal distribution\n",
    "Log_rfm_df = rfm_dataframe[['Recency', 'Frequency', 'Monetary']].apply(np.log, axis = 1).round(3)"
   ]
  },
  {
   "cell_type": "code",
   "execution_count": 77,
   "id": "26ac3214",
   "metadata": {},
   "outputs": [
    {
     "data": {
      "image/png": "[encoded data removed]",
      "text/plain": [
       "<Figure size 864x432 with 1 Axes>"
      ]
     },
     "metadata": {
      "needs_background": "light"
     },
     "output_type": "display_data"
    }
   ],
   "source": [
    "plt.figure(figsize=(12,6))\n",
    "sns.distplot(x=Log_rfm_df['Recency'])\n",
    "plt.title('Distribution of Recency');"
   ]
  },
  {
   "cell_type": "code",
   "execution_count": 78,
   "id": "dcef51c6",
   "metadata": {},
   "outputs": [
    {
     "data": {
      "image/png": "[encoded data removed]",
      "text/plain": [
       "<Figure size 864x432 with 1 Axes>"
      ]
     },
     "metadata": {
      "needs_background": "light"
     },
     "output_type": "display_data"
    }
   ],
   "source": [
    "plt.figure(figsize=(12,6))\n",
    "sns.distplot(x=Log_rfm_df['Frequency'])\n",
    "plt.title('Distribution of Frequency');"
   ]
  },
  {
   "cell_type": "code",
   "execution_count": 79,
   "id": "fa71df86",
   "metadata": {},
   "outputs": [
    {
     "data": {
      "image/png": "[encoded data removed]",
      "text/plain": [
       "<Figure size 864x432 with 1 Axes>"
      ]
     },
     "metadata": {
      "needs_background": "light"
     },
     "output_type": "display_data"
    }
   ],
   "source": [
    "plt.figure(figsize=(12,6))\n",
    "sns.distplot(x=Log_rfm_df['Monetary'])\n",
    "plt.title('Distribution of Monetary');"
   ]
  },
  {
   "cell_type": "code",
   "execution_count": 80,
   "id": "9d442a92",
   "metadata": {},
   "outputs": [
    {
     "data": {
      "text/html": [
       "<div>\n",
       "<style scoped>\n",
       "    .dataframe tbody tr th:only-of-type {\n",
       "        vertical-align: middle;\n",
       "    }\n",
       "\n",
       "    .dataframe tbody tr th {\n",
       "        vertical-align: top;\n",
       "    }\n",
       "\n",
       "    .dataframe thead th {\n",
       "        text-align: right;\n",
       "    }\n",
       "</style>\n",
       "<table border=\"1\" class=\"dataframe\">\n",
       "  <thead>\n",
       "    <tr style=\"text-align: right;\">\n",
       "      <th></th>\n",
       "      <th>Recency</th>\n",
       "      <th>Frequency</th>\n",
       "      <th>Monetary</th>\n",
       "      <th>R</th>\n",
       "      <th>F</th>\n",
       "      <th>M</th>\n",
       "      <th>RFM_Group</th>\n",
       "      <th>RFM_Score</th>\n",
       "      <th>RFM_Loyalty_Level</th>\n",
       "      <th>Recency_log</th>\n",
       "      <th>Frequency_log</th>\n",
       "      <th>Monetary_log</th>\n",
       "    </tr>\n",
       "    <tr>\n",
       "      <th>CustomerID</th>\n",
       "      <th></th>\n",
       "      <th></th>\n",
       "      <th></th>\n",
       "      <th></th>\n",
       "      <th></th>\n",
       "      <th></th>\n",
       "      <th></th>\n",
       "      <th></th>\n",
       "      <th></th>\n",
       "      <th></th>\n",
       "      <th></th>\n",
       "      <th></th>\n",
       "    </tr>\n",
       "  </thead>\n",
       "  <tbody>\n",
       "    <tr>\n",
       "      <th>12346.0</th>\n",
       "      <td>325</td>\n",
       "      <td>1</td>\n",
       "      <td>77183.60</td>\n",
       "      <td>4</td>\n",
       "      <td>4</td>\n",
       "      <td>1</td>\n",
       "      <td>441</td>\n",
       "      <td>9</td>\n",
       "      <td>Silver</td>\n",
       "      <td>5.783825</td>\n",
       "      <td>0.000000</td>\n",
       "      <td>11.253942</td>\n",
       "    </tr>\n",
       "    <tr>\n",
       "      <th>12347.0</th>\n",
       "      <td>2</td>\n",
       "      <td>182</td>\n",
       "      <td>4310.00</td>\n",
       "      <td>1</td>\n",
       "      <td>1</td>\n",
       "      <td>1</td>\n",
       "      <td>111</td>\n",
       "      <td>3</td>\n",
       "      <td>Platinaum</td>\n",
       "      <td>0.693147</td>\n",
       "      <td>5.204007</td>\n",
       "      <td>8.368693</td>\n",
       "    </tr>\n",
       "    <tr>\n",
       "      <th>12348.0</th>\n",
       "      <td>75</td>\n",
       "      <td>31</td>\n",
       "      <td>1797.24</td>\n",
       "      <td>3</td>\n",
       "      <td>3</td>\n",
       "      <td>1</td>\n",
       "      <td>331</td>\n",
       "      <td>7</td>\n",
       "      <td>Gold</td>\n",
       "      <td>4.317488</td>\n",
       "      <td>3.433987</td>\n",
       "      <td>7.494007</td>\n",
       "    </tr>\n",
       "    <tr>\n",
       "      <th>12349.0</th>\n",
       "      <td>18</td>\n",
       "      <td>73</td>\n",
       "      <td>1757.55</td>\n",
       "      <td>2</td>\n",
       "      <td>2</td>\n",
       "      <td>1</td>\n",
       "      <td>221</td>\n",
       "      <td>5</td>\n",
       "      <td>Platinaum</td>\n",
       "      <td>2.890372</td>\n",
       "      <td>4.290459</td>\n",
       "      <td>7.471676</td>\n",
       "    </tr>\n",
       "    <tr>\n",
       "      <th>12350.0</th>\n",
       "      <td>310</td>\n",
       "      <td>17</td>\n",
       "      <td>334.40</td>\n",
       "      <td>4</td>\n",
       "      <td>4</td>\n",
       "      <td>3</td>\n",
       "      <td>443</td>\n",
       "      <td>11</td>\n",
       "      <td>Bronz</td>\n",
       "      <td>5.736572</td>\n",
       "      <td>2.833213</td>\n",
       "      <td>5.812338</td>\n",
       "    </tr>\n",
       "  </tbody>\n",
       "</table>\n",
       "</div>"
      ],
      "text/plain": [
       "            Recency  Frequency  Monetary  R  F  M RFM_Group  RFM_Score  \\\n",
       "CustomerID                                                               \n",
       "12346.0         325          1  77183.60  4  4  1       441          9   \n",
       "12347.0           2        182   4310.00  1  1  1       111          3   \n",
       "12348.0          75         31   1797.24  3  3  1       331          7   \n",
       "12349.0          18         73   1757.55  2  2  1       221          5   \n",
       "12350.0         310         17    334.40  4  4  3       443         11   \n",
       "\n",
       "           RFM_Loyalty_Level  Recency_log  Frequency_log  Monetary_log  \n",
       "CustomerID                                                              \n",
       "12346.0               Silver     5.783825       0.000000     11.253942  \n",
       "12347.0            Platinaum     0.693147       5.204007      8.368693  \n",
       "12348.0                 Gold     4.317488       3.433987      7.494007  \n",
       "12349.0            Platinaum     2.890372       4.290459      7.471676  \n",
       "12350.0                Bronz     5.736572       2.833213      5.812338  "
      ]
     },
     "execution_count": 80,
     "metadata": {},
     "output_type": "execute_result"
    }
   ],
   "source": [
    "import math\n",
    "rfm_dataframe['Recency_log'] = rfm_dataframe['Recency'].apply(math.log)\n",
    "rfm_dataframe['Frequency_log'] = rfm_dataframe['Frequency'].apply(math.log)\n",
    "rfm_dataframe['Monetary_log'] = rfm_dataframe['Monetary'].apply(math.log)\n",
    "rfm_dataframe.head()"
   ]
  },
  {
   "cell_type": "code",
   "execution_count": 81,
   "id": "6e18e672",
   "metadata": {},
   "outputs": [],
   "source": [
    "\n",
    "from sklearn.metrics import silhouette_score\n",
    "from sklearn.datasets import make_blobs\n",
    "from sklearn.cluster import KMeans\n",
    "from sklearn.metrics import silhouette_samples, silhouette_score\n",
    "from sklearn.preprocessing import StandardScaler"
   ]
  },
  {
   "cell_type": "code",
   "execution_count": 82,
   "id": "edb6ba5f",
   "metadata": {},
   "outputs": [
    {
     "data": {
      "image/png": "[encoded data removed]",
      "text/plain": [
       "<Figure size 864x432 with 1 Axes>"
      ]
     },
     "metadata": {
      "needs_background": "light"
     },
     "output_type": "display_data"
    }
   ],
   "source": [
    "# taking Recency and Monetory_log in list.\n",
    "Recency_and_Monetary_feat=['Recency_log','Monetary_log']\n",
    "\n",
    "# taking only values of recency and monetory in X.\n",
    "X=rfm_dataframe[Recency_and_Monetary_feat].values\n",
    "\n",
    "# standardising the data\n",
    "scaler=StandardScaler()\n",
    "X=scaler.fit_transform(X)\n",
    "\n",
    "#applying Elbow Method\n",
    "wcss = {}\n",
    "for k in range(1,15):\n",
    "    km = KMeans(n_clusters= k, init= 'k-means++', max_iter= 1000)\n",
    "    km = km.fit(X)\n",
    "    wcss[k] = km.inertia_\n",
    "\n",
    "\n",
    "#Plot the graph for the sum of square distance values and Number of Clusters\n",
    "plt.figure(figsize=(12,6))\n",
    "sns.pointplot(x = list(wcss.keys()), y = list(wcss.values()))\n",
    "plt.xlabel('Number of Clusters(k)')\n",
    "plt.ylabel('Sum of Square Distances')\n",
    "plt.title('Elbow Method For Optimal k')\n",
    "plt.show()"
   ]
  },
  {
   "cell_type": "code",
   "execution_count": 83,
   "id": "3962d51f",
   "metadata": {},
   "outputs": [],
   "source": [
    "\n",
    "#Silhouette Score"
   ]
  },
  {
   "cell_type": "code",
   "execution_count": 84,
   "id": "332ef048",
   "metadata": {},
   "outputs": [
    {
     "name": "stdout",
     "output_type": "stream",
     "text": [
      "For n_clusters = 2, silhouette score is 0.421461308316105\n",
      "For n_clusters = 3, silhouette score is 0.3433470120059089\n",
      "For n_clusters = 4, silhouette score is 0.3649058771514865\n",
      "For n_clusters = 5, silhouette score is 0.33820413107206965\n",
      "For n_clusters = 6, silhouette score is 0.34434506659805053\n",
      "For n_clusters = 7, silhouette score is 0.3477809979904212\n",
      "For n_clusters = 8, silhouette score is 0.3392484386662694\n",
      "For n_clusters = 9, silhouette score is 0.34522027227059704\n",
      "For n_clusters = 10, silhouette score is 0.3469673036865601\n",
      "For n_clusters = 11, silhouette score is 0.3377968662582087\n",
      "For n_clusters = 12, silhouette score is 0.34518743523757844\n",
      "For n_clusters = 13, silhouette score is 0.3423025830123061\n",
      "For n_clusters = 14, silhouette score is 0.3374477689743645\n",
      "For n_clusters = 15, silhouette score is 0.3406936017982178\n"
     ]
    }
   ],
   "source": [
    " #taking Recency and Monetory_log in list.\n",
    "Recency_and_Monetary_feat=['Recency_log','Monetary_log']\n",
    "\n",
    "# taking only values of recency and monetory in X.\n",
    "X=rfm_dataframe[Recency_and_Monetary_feat].values\n",
    "\n",
    "# standardising the data\n",
    "scaler=StandardScaler()\n",
    "X=scaler.fit_transform(X)\n",
    "\n",
    "#Silhouette Score\n",
    "range_n_clusters = [2,3,4,5,6,7,8,9,10,11,12,13,14,15]\n",
    "for n_clusters in range_n_clusters:\n",
    "    clusterer = KMeans(n_clusters=n_clusters,random_state=1)\n",
    "    preds = clusterer.fit_predict(X)\n",
    "    centers = clusterer.cluster_centers_\n",
    "\n",
    "    score = silhouette_score(X, preds)\n",
    "    print(\"For n_clusters = {}, silhouette score is {}\".format(n_clusters, score))"
   ]
  },
  {
   "cell_type": "code",
   "execution_count": 85,
   "id": "5b9dfdb5",
   "metadata": {},
   "outputs": [],
   "source": [
    "# applying Kmeans_clustering algorithm\n",
    "kmeans_rec_mon = KMeans(n_clusters=2)\n",
    "kmeans_rec_mon.fit(X)\n",
    "y_kmeans= kmeans_rec_mon.predict(X)"
   ]
  },
  {
   "cell_type": "code",
   "execution_count": 86,
   "id": "00458184",
   "metadata": {},
   "outputs": [
    {
     "data": {
      "text/html": [
       "<div>\n",
       "<style scoped>\n",
       "    .dataframe tbody tr th:only-of-type {\n",
       "        vertical-align: middle;\n",
       "    }\n",
       "\n",
       "    .dataframe tbody tr th {\n",
       "        vertical-align: top;\n",
       "    }\n",
       "\n",
       "    .dataframe thead th {\n",
       "        text-align: right;\n",
       "    }\n",
       "</style>\n",
       "<table border=\"1\" class=\"dataframe\">\n",
       "  <thead>\n",
       "    <tr style=\"text-align: right;\">\n",
       "      <th></th>\n",
       "      <th>Recency</th>\n",
       "      <th>Frequency</th>\n",
       "      <th>Monetary</th>\n",
       "      <th>R</th>\n",
       "      <th>F</th>\n",
       "      <th>M</th>\n",
       "      <th>RFM_Group</th>\n",
       "      <th>RFM_Score</th>\n",
       "      <th>RFM_Loyalty_Level</th>\n",
       "      <th>Recency_log</th>\n",
       "      <th>Frequency_log</th>\n",
       "      <th>Monetary_log</th>\n",
       "      <th>Cluster_based_rec_mon</th>\n",
       "    </tr>\n",
       "    <tr>\n",
       "      <th>CustomerID</th>\n",
       "      <th></th>\n",
       "      <th></th>\n",
       "      <th></th>\n",
       "      <th></th>\n",
       "      <th></th>\n",
       "      <th></th>\n",
       "      <th></th>\n",
       "      <th></th>\n",
       "      <th></th>\n",
       "      <th></th>\n",
       "      <th></th>\n",
       "      <th></th>\n",
       "      <th></th>\n",
       "    </tr>\n",
       "  </thead>\n",
       "  <tbody>\n",
       "    <tr>\n",
       "      <th>12346.0</th>\n",
       "      <td>325</td>\n",
       "      <td>1</td>\n",
       "      <td>77183.60</td>\n",
       "      <td>4</td>\n",
       "      <td>4</td>\n",
       "      <td>1</td>\n",
       "      <td>441</td>\n",
       "      <td>9</td>\n",
       "      <td>Silver</td>\n",
       "      <td>5.783825</td>\n",
       "      <td>0.000000</td>\n",
       "      <td>11.253942</td>\n",
       "      <td>1</td>\n",
       "    </tr>\n",
       "    <tr>\n",
       "      <th>12347.0</th>\n",
       "      <td>2</td>\n",
       "      <td>182</td>\n",
       "      <td>4310.00</td>\n",
       "      <td>1</td>\n",
       "      <td>1</td>\n",
       "      <td>1</td>\n",
       "      <td>111</td>\n",
       "      <td>3</td>\n",
       "      <td>Platinaum</td>\n",
       "      <td>0.693147</td>\n",
       "      <td>5.204007</td>\n",
       "      <td>8.368693</td>\n",
       "      <td>1</td>\n",
       "    </tr>\n",
       "    <tr>\n",
       "      <th>12348.0</th>\n",
       "      <td>75</td>\n",
       "      <td>31</td>\n",
       "      <td>1797.24</td>\n",
       "      <td>3</td>\n",
       "      <td>3</td>\n",
       "      <td>1</td>\n",
       "      <td>331</td>\n",
       "      <td>7</td>\n",
       "      <td>Gold</td>\n",
       "      <td>4.317488</td>\n",
       "      <td>3.433987</td>\n",
       "      <td>7.494007</td>\n",
       "      <td>1</td>\n",
       "    </tr>\n",
       "    <tr>\n",
       "      <th>12349.0</th>\n",
       "      <td>18</td>\n",
       "      <td>73</td>\n",
       "      <td>1757.55</td>\n",
       "      <td>2</td>\n",
       "      <td>2</td>\n",
       "      <td>1</td>\n",
       "      <td>221</td>\n",
       "      <td>5</td>\n",
       "      <td>Platinaum</td>\n",
       "      <td>2.890372</td>\n",
       "      <td>4.290459</td>\n",
       "      <td>7.471676</td>\n",
       "      <td>1</td>\n",
       "    </tr>\n",
       "    <tr>\n",
       "      <th>12350.0</th>\n",
       "      <td>310</td>\n",
       "      <td>17</td>\n",
       "      <td>334.40</td>\n",
       "      <td>4</td>\n",
       "      <td>4</td>\n",
       "      <td>3</td>\n",
       "      <td>443</td>\n",
       "      <td>11</td>\n",
       "      <td>Bronz</td>\n",
       "      <td>5.736572</td>\n",
       "      <td>2.833213</td>\n",
       "      <td>5.812338</td>\n",
       "      <td>0</td>\n",
       "    </tr>\n",
       "  </tbody>\n",
       "</table>\n",
       "</div>"
      ],
      "text/plain": [
       "            Recency  Frequency  Monetary  R  F  M RFM_Group  RFM_Score  \\\n",
       "CustomerID                                                               \n",
       "12346.0         325          1  77183.60  4  4  1       441          9   \n",
       "12347.0           2        182   4310.00  1  1  1       111          3   \n",
       "12348.0          75         31   1797.24  3  3  1       331          7   \n",
       "12349.0          18         73   1757.55  2  2  1       221          5   \n",
       "12350.0         310         17    334.40  4  4  3       443         11   \n",
       "\n",
       "           RFM_Loyalty_Level  Recency_log  Frequency_log  Monetary_log  \\\n",
       "CustomerID                                                               \n",
       "12346.0               Silver     5.783825       0.000000     11.253942   \n",
       "12347.0            Platinaum     0.693147       5.204007      8.368693   \n",
       "12348.0                 Gold     4.317488       3.433987      7.494007   \n",
       "12349.0            Platinaum     2.890372       4.290459      7.471676   \n",
       "12350.0                Bronz     5.736572       2.833213      5.812338   \n",
       "\n",
       "            Cluster_based_rec_mon  \n",
       "CustomerID                         \n",
       "12346.0                         1  \n",
       "12347.0                         1  \n",
       "12348.0                         1  \n",
       "12349.0                         1  \n",
       "12350.0                         0  "
      ]
     },
     "execution_count": 86,
     "metadata": {},
     "output_type": "execute_result"
    }
   ],
   "source": [
    "#Find the clusters for the observation given in the dataset\n",
    "rfm_dataframe['Cluster_based_rec_mon'] = kmeans_rec_mon.labels_\n",
    "rfm_dataframe.head()"
   ]
  },
  {
   "cell_type": "code",
   "execution_count": 87,
   "id": "0107fe3c",
   "metadata": {},
   "outputs": [
    {
     "data": {
      "text/plain": [
       "array([[ 0.5820269 , -0.56972185],\n",
       "       [-0.85009601,  0.83212352]])"
      ]
     },
     "execution_count": 87,
     "metadata": {},
     "output_type": "execute_result"
    }
   ],
   "source": [
    "# Centers of the clusters(coordinates)\n",
    "centers = kmeans_rec_mon.cluster_centers_\n",
    "centers"
   ]
  },
  {
   "cell_type": "code",
   "execution_count": 88,
   "id": "576c52e5",
   "metadata": {},
   "outputs": [
    {
     "data": {
      "image/png": "[encoded data removed]",
      "text/plain": [
       "<Figure size 720x432 with 1 Axes>"
      ]
     },
     "metadata": {
      "needs_background": "light"
     },
     "output_type": "display_data"
    }
   ],
   "source": [
    "# ploting visualizing the clusters\n",
    "plt.figure(figsize=(10,6))\n",
    "plt.title('customer segmentation based on Recency and Monetary')\n",
    "plt.scatter(X[:, 0], X[:, 1], c=y_kmeans, s=50)\n",
    "\n",
    "centers = kmeans_rec_mon.cluster_centers_\n",
    "plt.scatter(centers[:, 0], centers[:, 1], c='red', s=300, alpha=0.8);"
   ]
  },
  {
   "cell_type": "code",
   "execution_count": 89,
   "id": "efc75f80",
   "metadata": {},
   "outputs": [
    {
     "data": {
      "image/png": "[encoded data removed]",
      "text/plain": [
       "<Figure size 864x432 with 1 Axes>"
      ]
     },
     "metadata": {
      "needs_background": "light"
     },
     "output_type": "display_data"
    }
   ],
   "source": [
    "# taking Recency and Monetory_log in list.\n",
    "Recency_and_Monetary_feat=['Frequency_log','Monetary_log']\n",
    "\n",
    "# taking only values of recency and monetory in X.\n",
    "X=rfm_dataframe[Recency_and_Monetary_feat].values\n",
    "\n",
    "# standardising the data\n",
    "scaler=StandardScaler()\n",
    "X=scaler.fit_transform(X)\n",
    "\n",
    "#applying Elbow Method\n",
    "wcss = {}\n",
    "for k in range(1,15):\n",
    "    km = KMeans(n_clusters= k, init= 'k-means++', max_iter= 1000)\n",
    "    km = km.fit(X)\n",
    "    wcss[k] = km.inertia_\n",
    "\n",
    "\n",
    "#Plot the graph for the sum of square distance values and Number of Clusters\n",
    "plt.figure(figsize=(12,6))\n",
    "sns.pointplot(x = list(wcss.keys()), y = list(wcss.values()))\n",
    "plt.xlabel('Number of Clusters(k)')\n",
    "plt.ylabel('Sum of Square Distances')\n",
    "plt.title('Elbow Method For Optimal k')\n",
    "plt.show()"
   ]
  },
  {
   "cell_type": "code",
   "execution_count": 90,
   "id": "f43e55fe",
   "metadata": {},
   "outputs": [
    {
     "name": "stdout",
     "output_type": "stream",
     "text": [
      "For n_clusters = 2, silhouette score is 0.478535709506603\n",
      "For n_clusters = 3, silhouette score is 0.40764120562174455\n",
      "For n_clusters = 4, silhouette score is 0.3713621472257022\n",
      "For n_clusters = 5, silhouette score is 0.34421392078590124\n",
      "For n_clusters = 6, silhouette score is 0.35931533801728827\n",
      "For n_clusters = 7, silhouette score is 0.3383033249370488\n",
      "For n_clusters = 8, silhouette score is 0.3521664481828895\n",
      "For n_clusters = 9, silhouette score is 0.3461064839785871\n",
      "For n_clusters = 10, silhouette score is 0.34406558910455814\n",
      "For n_clusters = 11, silhouette score is 0.36874756870739955\n",
      "For n_clusters = 12, silhouette score is 0.35376126241376626\n",
      "For n_clusters = 13, silhouette score is 0.3623920782636714\n",
      "For n_clusters = 14, silhouette score is 0.3542022649964398\n",
      "For n_clusters = 15, silhouette score is 0.35119762409941846\n"
     ]
    }
   ],
   "source": [
    "#Silhouette Score *(Validating Above optimal cluster value(i.e optimal_cluster=2)*\n",
    "# taking Recency and Monetory_log in list.\n",
    "Recency_and_Monetary_feat=['Frequency_log','Monetary_log']\n",
    "\n",
    "# taking only values of recency and monetory in X.\n",
    "X=rfm_dataframe[Recency_and_Monetary_feat].values\n",
    "\n",
    "# standardising the data\n",
    "scaler=StandardScaler()\n",
    "X=scaler.fit_transform(X)\n",
    "\n",
    "#Silhouette Score\n",
    "range_n_clusters = [2,3,4,5,6,7,8,9,10,11,12,13,14,15]\n",
    "for n_clusters in range_n_clusters:\n",
    "    clusterer = KMeans(n_clusters=n_clusters,random_state=1)\n",
    "    preds = clusterer.fit_predict(X)\n",
    "    centers = clusterer.cluster_centers_\n",
    "\n",
    "    score = silhouette_score(X, preds)\n",
    "    print(\"For n_clusters = {}, silhouette score is {}\".format(n_clusters, score))"
   ]
  },
  {
   "cell_type": "code",
   "execution_count": 91,
   "id": "3df1b056",
   "metadata": {},
   "outputs": [],
   "source": [
    "#So giving n_clusters=2 on Kmeans Model.\n",
    "# applying Kmeans_clustering algorithm\n",
    "kmeans_freq_mon = KMeans(n_clusters=2)\n",
    "kmeans_freq_mon.fit(X)\n",
    "y_kmeans= kmeans_freq_mon.predict(X)"
   ]
  },
  {
   "cell_type": "code",
   "execution_count": 92,
   "id": "888567e7",
   "metadata": {},
   "outputs": [
    {
     "data": {
      "text/html": [
       "<div>\n",
       "<style scoped>\n",
       "    .dataframe tbody tr th:only-of-type {\n",
       "        vertical-align: middle;\n",
       "    }\n",
       "\n",
       "    .dataframe tbody tr th {\n",
       "        vertical-align: top;\n",
       "    }\n",
       "\n",
       "    .dataframe thead th {\n",
       "        text-align: right;\n",
       "    }\n",
       "</style>\n",
       "<table border=\"1\" class=\"dataframe\">\n",
       "  <thead>\n",
       "    <tr style=\"text-align: right;\">\n",
       "      <th></th>\n",
       "      <th>Recency</th>\n",
       "      <th>Frequency</th>\n",
       "      <th>Monetary</th>\n",
       "      <th>R</th>\n",
       "      <th>F</th>\n",
       "      <th>M</th>\n",
       "      <th>RFM_Group</th>\n",
       "      <th>RFM_Score</th>\n",
       "      <th>RFM_Loyalty_Level</th>\n",
       "      <th>Recency_log</th>\n",
       "      <th>Frequency_log</th>\n",
       "      <th>Monetary_log</th>\n",
       "      <th>Cluster_based_rec_mon</th>\n",
       "      <th>Cluster_based_on_freq_mon</th>\n",
       "    </tr>\n",
       "    <tr>\n",
       "      <th>CustomerID</th>\n",
       "      <th></th>\n",
       "      <th></th>\n",
       "      <th></th>\n",
       "      <th></th>\n",
       "      <th></th>\n",
       "      <th></th>\n",
       "      <th></th>\n",
       "      <th></th>\n",
       "      <th></th>\n",
       "      <th></th>\n",
       "      <th></th>\n",
       "      <th></th>\n",
       "      <th></th>\n",
       "      <th></th>\n",
       "    </tr>\n",
       "  </thead>\n",
       "  <tbody>\n",
       "    <tr>\n",
       "      <th>12346.0</th>\n",
       "      <td>325</td>\n",
       "      <td>1</td>\n",
       "      <td>77183.60</td>\n",
       "      <td>4</td>\n",
       "      <td>4</td>\n",
       "      <td>1</td>\n",
       "      <td>441</td>\n",
       "      <td>9</td>\n",
       "      <td>Silver</td>\n",
       "      <td>5.783825</td>\n",
       "      <td>0.000000</td>\n",
       "      <td>11.253942</td>\n",
       "      <td>1</td>\n",
       "      <td>1</td>\n",
       "    </tr>\n",
       "    <tr>\n",
       "      <th>12347.0</th>\n",
       "      <td>2</td>\n",
       "      <td>182</td>\n",
       "      <td>4310.00</td>\n",
       "      <td>1</td>\n",
       "      <td>1</td>\n",
       "      <td>1</td>\n",
       "      <td>111</td>\n",
       "      <td>3</td>\n",
       "      <td>Platinaum</td>\n",
       "      <td>0.693147</td>\n",
       "      <td>5.204007</td>\n",
       "      <td>8.368693</td>\n",
       "      <td>1</td>\n",
       "      <td>1</td>\n",
       "    </tr>\n",
       "    <tr>\n",
       "      <th>12348.0</th>\n",
       "      <td>75</td>\n",
       "      <td>31</td>\n",
       "      <td>1797.24</td>\n",
       "      <td>3</td>\n",
       "      <td>3</td>\n",
       "      <td>1</td>\n",
       "      <td>331</td>\n",
       "      <td>7</td>\n",
       "      <td>Gold</td>\n",
       "      <td>4.317488</td>\n",
       "      <td>3.433987</td>\n",
       "      <td>7.494007</td>\n",
       "      <td>1</td>\n",
       "      <td>1</td>\n",
       "    </tr>\n",
       "    <tr>\n",
       "      <th>12349.0</th>\n",
       "      <td>18</td>\n",
       "      <td>73</td>\n",
       "      <td>1757.55</td>\n",
       "      <td>2</td>\n",
       "      <td>2</td>\n",
       "      <td>1</td>\n",
       "      <td>221</td>\n",
       "      <td>5</td>\n",
       "      <td>Platinaum</td>\n",
       "      <td>2.890372</td>\n",
       "      <td>4.290459</td>\n",
       "      <td>7.471676</td>\n",
       "      <td>1</td>\n",
       "      <td>1</td>\n",
       "    </tr>\n",
       "    <tr>\n",
       "      <th>12350.0</th>\n",
       "      <td>310</td>\n",
       "      <td>17</td>\n",
       "      <td>334.40</td>\n",
       "      <td>4</td>\n",
       "      <td>4</td>\n",
       "      <td>3</td>\n",
       "      <td>443</td>\n",
       "      <td>11</td>\n",
       "      <td>Bronz</td>\n",
       "      <td>5.736572</td>\n",
       "      <td>2.833213</td>\n",
       "      <td>5.812338</td>\n",
       "      <td>0</td>\n",
       "      <td>0</td>\n",
       "    </tr>\n",
       "  </tbody>\n",
       "</table>\n",
       "</div>"
      ],
      "text/plain": [
       "            Recency  Frequency  Monetary  R  F  M RFM_Group  RFM_Score  \\\n",
       "CustomerID                                                               \n",
       "12346.0         325          1  77183.60  4  4  1       441          9   \n",
       "12347.0           2        182   4310.00  1  1  1       111          3   \n",
       "12348.0          75         31   1797.24  3  3  1       331          7   \n",
       "12349.0          18         73   1757.55  2  2  1       221          5   \n",
       "12350.0         310         17    334.40  4  4  3       443         11   \n",
       "\n",
       "           RFM_Loyalty_Level  Recency_log  Frequency_log  Monetary_log  \\\n",
       "CustomerID                                                               \n",
       "12346.0               Silver     5.783825       0.000000     11.253942   \n",
       "12347.0            Platinaum     0.693147       5.204007      8.368693   \n",
       "12348.0                 Gold     4.317488       3.433987      7.494007   \n",
       "12349.0            Platinaum     2.890372       4.290459      7.471676   \n",
       "12350.0                Bronz     5.736572       2.833213      5.812338   \n",
       "\n",
       "            Cluster_based_rec_mon  Cluster_based_on_freq_mon  \n",
       "CustomerID                                                    \n",
       "12346.0                         1                          1  \n",
       "12347.0                         1                          1  \n",
       "12348.0                         1                          1  \n",
       "12349.0                         1                          1  \n",
       "12350.0                         0                          0  "
      ]
     },
     "execution_count": 92,
     "metadata": {},
     "output_type": "execute_result"
    }
   ],
   "source": [
    "#Find the clusters for the observation given in the dataset\n",
    "rfm_dataframe['Cluster_based_on_freq_mon'] = kmeans_freq_mon.labels_\n",
    "rfm_dataframe.head()"
   ]
  },
  {
   "cell_type": "code",
   "execution_count": 93,
   "id": "3948d9ec",
   "metadata": {},
   "outputs": [
    {
     "data": {
      "text/plain": [
       "array([[-0.70574675, -0.71270767],\n",
       "       [ 0.78987093,  0.79766159]])"
      ]
     },
     "execution_count": 93,
     "metadata": {},
     "output_type": "execute_result"
    }
   ],
   "source": [
    "# Centers of the clusters(coordinates)\n",
    "centers = kmeans_freq_mon.cluster_centers_\n",
    "centers"
   ]
  },
  {
   "cell_type": "code",
   "execution_count": 94,
   "id": "6e369ef1",
   "metadata": {},
   "outputs": [
    {
     "data": {
      "image/png": "[encoded data removed]",
      "text/plain": [
       "<Figure size 720x432 with 1 Axes>"
      ]
     },
     "metadata": {
      "needs_background": "light"
     },
     "output_type": "display_data"
    }
   ],
   "source": [
    "# ploting visualizing the clusters\n",
    "plt.figure(figsize=(10,6))\n",
    "plt.title('customer segmentation based on frequency and Monetary')\n",
    "plt.scatter(X[:, 0], X[:, 1], c=y_kmeans, s=50)\n",
    "\n",
    "centers = kmeans_freq_mon.cluster_centers_\n",
    "plt.scatter(centers[:, 0], centers[:, 1], c='red', s=300, alpha=0.8);"
   ]
  },
  {
   "cell_type": "code",
   "execution_count": 95,
   "id": "1839a7d0",
   "metadata": {},
   "outputs": [
    {
     "data": {
      "image/png": "[encoded data removed]",
      "text/plain": [
       "<Figure size 864x432 with 1 Axes>"
      ]
     },
     "metadata": {
      "needs_background": "light"
     },
     "output_type": "display_data"
    }
   ],
   "source": [
    "#------------------------------Recency,Frequency and Monetary-------------------\n",
    "#1) KMeans Clustering\n",
    "#*Before implementing the Kmeans Clustering alogorthm we need to decide the number of clusters to put inside algorithm as input. \n",
    "# So we will be finding the minmum number of clusters required by using Elbow method.*\n",
    "\n",
    "#*A) Applying Elbow Method on Recency, Frequency and Monetary.*\n",
    "# taking Recency_log, Frequency_log and Monetory_log in list.\n",
    "Recency_and_Monetary_feat=['Recency_log','Frequency_log','Monetary_log']\n",
    "\n",
    "# taking only values of recency and monetory in X.\n",
    "X=rfm_dataframe[Recency_and_Monetary_feat].values\n",
    "\n",
    "# standardising the data\n",
    "scaler=StandardScaler()\n",
    "X=scaler.fit_transform(X)\n",
    "\n",
    "#applying Elbow Method\n",
    "wcss = {}\n",
    "for k in range(1,15):\n",
    "    km = KMeans(n_clusters= k, init= 'k-means++', max_iter= 1000)\n",
    "    km = km.fit(X)\n",
    "    wcss[k] = km.inertia_\n",
    "\n",
    "\n",
    "#Plot the graph for the sum of square distance values and Number of Clusters\n",
    "plt.figure(figsize=(12,6))\n",
    "sns.pointplot(x = list(wcss.keys()), y = list(wcss.values()))\n",
    "plt.xlabel('Number of Clusters(k)')\n",
    "plt.ylabel('Sum of Square Distances')\n",
    "plt.title('Elbow Method For Optimal k')\n",
    "plt.show()"
   ]
  },
  {
   "cell_type": "code",
   "execution_count": 96,
   "id": "ac2304ec",
   "metadata": {},
   "outputs": [
    {
     "name": "stdout",
     "output_type": "stream",
     "text": [
      "For n_clusters = 2, silhouette score is 0.395423791756615\n",
      "For n_clusters = 3, silhouette score is 0.3031065868149085\n",
      "For n_clusters = 4, silhouette score is 0.3000039218502714\n",
      "For n_clusters = 5, silhouette score is 0.27894915964985467\n",
      "For n_clusters = 6, silhouette score is 0.2789053321660105\n",
      "For n_clusters = 7, silhouette score is 0.2626024801684643\n",
      "For n_clusters = 8, silhouette score is 0.26429867363870835\n",
      "For n_clusters = 9, silhouette score is 0.2519027887573388\n",
      "For n_clusters = 10, silhouette score is 0.2598000319243521\n",
      "For n_clusters = 11, silhouette score is 0.26000668071668026\n",
      "For n_clusters = 12, silhouette score is 0.2650406193922724\n",
      "For n_clusters = 13, silhouette score is 0.26253634089283606\n",
      "For n_clusters = 14, silhouette score is 0.26151008878127036\n",
      "For n_clusters = 15, silhouette score is 0.25500922582455726\n"
     ]
    }
   ],
   "source": [
    "# taking Recency_log,Frequency_log and Monetory_log in list.\n",
    "Recency_and_Monetary_feat=['Recency_log','Frequency_log','Monetary_log']\n",
    "\n",
    "# taking only values of recency and monetory in X.\n",
    "X=rfm_dataframe[Recency_and_Monetary_feat].values\n",
    "\n",
    "# standardising the data\n",
    "scaler=StandardScaler()\n",
    "X=scaler.fit_transform(X)\n",
    "\n",
    "#Silhouette Score\n",
    "range_n_clusters = [2,3,4,5,6,7,8,9,10,11,12,13,14,15]\n",
    "for n_clusters in range_n_clusters:\n",
    "    clusterer = KMeans(n_clusters=n_clusters,random_state=1)\n",
    "    preds = clusterer.fit_predict(X)\n",
    "    centers = clusterer.cluster_centers_\n",
    "\n",
    "    score = silhouette_score(X, preds)\n",
    "    print(\"For n_clusters = {}, silhouette score is {}\".format(n_clusters, score))"
   ]
  },
  {
   "cell_type": "code",
   "execution_count": 97,
   "id": "6f4784b1",
   "metadata": {},
   "outputs": [],
   "source": [
    "# applying Kmeans_clustering algorithm\n",
    "kmeans_freq_mon_rec = KMeans(n_clusters=2)\n",
    "kmeans_freq_mon_rec.fit(X)\n",
    "y_kmeans= kmeans_freq_mon_rec.predict(X)"
   ]
  },
  {
   "cell_type": "code",
   "execution_count": 98,
   "id": "7157e2a2",
   "metadata": {},
   "outputs": [
    {
     "data": {
      "text/html": [
       "<div>\n",
       "<style scoped>\n",
       "    .dataframe tbody tr th:only-of-type {\n",
       "        vertical-align: middle;\n",
       "    }\n",
       "\n",
       "    .dataframe tbody tr th {\n",
       "        vertical-align: top;\n",
       "    }\n",
       "\n",
       "    .dataframe thead th {\n",
       "        text-align: right;\n",
       "    }\n",
       "</style>\n",
       "<table border=\"1\" class=\"dataframe\">\n",
       "  <thead>\n",
       "    <tr style=\"text-align: right;\">\n",
       "      <th></th>\n",
       "      <th>Recency</th>\n",
       "      <th>Frequency</th>\n",
       "      <th>Monetary</th>\n",
       "      <th>R</th>\n",
       "      <th>F</th>\n",
       "      <th>M</th>\n",
       "      <th>RFM_Group</th>\n",
       "      <th>RFM_Score</th>\n",
       "      <th>RFM_Loyalty_Level</th>\n",
       "      <th>Recency_log</th>\n",
       "      <th>Frequency_log</th>\n",
       "      <th>Monetary_log</th>\n",
       "      <th>Cluster_based_rec_mon</th>\n",
       "      <th>Cluster_based_on_freq_mon</th>\n",
       "      <th>Cluster_based_on_freq_mon_rec</th>\n",
       "    </tr>\n",
       "    <tr>\n",
       "      <th>CustomerID</th>\n",
       "      <th></th>\n",
       "      <th></th>\n",
       "      <th></th>\n",
       "      <th></th>\n",
       "      <th></th>\n",
       "      <th></th>\n",
       "      <th></th>\n",
       "      <th></th>\n",
       "      <th></th>\n",
       "      <th></th>\n",
       "      <th></th>\n",
       "      <th></th>\n",
       "      <th></th>\n",
       "      <th></th>\n",
       "      <th></th>\n",
       "    </tr>\n",
       "  </thead>\n",
       "  <tbody>\n",
       "    <tr>\n",
       "      <th>12346.0</th>\n",
       "      <td>325</td>\n",
       "      <td>1</td>\n",
       "      <td>77183.60</td>\n",
       "      <td>4</td>\n",
       "      <td>4</td>\n",
       "      <td>1</td>\n",
       "      <td>441</td>\n",
       "      <td>9</td>\n",
       "      <td>Silver</td>\n",
       "      <td>5.783825</td>\n",
       "      <td>0.000000</td>\n",
       "      <td>11.253942</td>\n",
       "      <td>1</td>\n",
       "      <td>1</td>\n",
       "      <td>0</td>\n",
       "    </tr>\n",
       "    <tr>\n",
       "      <th>12347.0</th>\n",
       "      <td>2</td>\n",
       "      <td>182</td>\n",
       "      <td>4310.00</td>\n",
       "      <td>1</td>\n",
       "      <td>1</td>\n",
       "      <td>1</td>\n",
       "      <td>111</td>\n",
       "      <td>3</td>\n",
       "      <td>Platinaum</td>\n",
       "      <td>0.693147</td>\n",
       "      <td>5.204007</td>\n",
       "      <td>8.368693</td>\n",
       "      <td>1</td>\n",
       "      <td>1</td>\n",
       "      <td>1</td>\n",
       "    </tr>\n",
       "    <tr>\n",
       "      <th>12348.0</th>\n",
       "      <td>75</td>\n",
       "      <td>31</td>\n",
       "      <td>1797.24</td>\n",
       "      <td>3</td>\n",
       "      <td>3</td>\n",
       "      <td>1</td>\n",
       "      <td>331</td>\n",
       "      <td>7</td>\n",
       "      <td>Gold</td>\n",
       "      <td>4.317488</td>\n",
       "      <td>3.433987</td>\n",
       "      <td>7.494007</td>\n",
       "      <td>1</td>\n",
       "      <td>1</td>\n",
       "      <td>0</td>\n",
       "    </tr>\n",
       "    <tr>\n",
       "      <th>12349.0</th>\n",
       "      <td>18</td>\n",
       "      <td>73</td>\n",
       "      <td>1757.55</td>\n",
       "      <td>2</td>\n",
       "      <td>2</td>\n",
       "      <td>1</td>\n",
       "      <td>221</td>\n",
       "      <td>5</td>\n",
       "      <td>Platinaum</td>\n",
       "      <td>2.890372</td>\n",
       "      <td>4.290459</td>\n",
       "      <td>7.471676</td>\n",
       "      <td>1</td>\n",
       "      <td>1</td>\n",
       "      <td>1</td>\n",
       "    </tr>\n",
       "    <tr>\n",
       "      <th>12350.0</th>\n",
       "      <td>310</td>\n",
       "      <td>17</td>\n",
       "      <td>334.40</td>\n",
       "      <td>4</td>\n",
       "      <td>4</td>\n",
       "      <td>3</td>\n",
       "      <td>443</td>\n",
       "      <td>11</td>\n",
       "      <td>Bronz</td>\n",
       "      <td>5.736572</td>\n",
       "      <td>2.833213</td>\n",
       "      <td>5.812338</td>\n",
       "      <td>0</td>\n",
       "      <td>0</td>\n",
       "      <td>0</td>\n",
       "    </tr>\n",
       "  </tbody>\n",
       "</table>\n",
       "</div>"
      ],
      "text/plain": [
       "            Recency  Frequency  Monetary  R  F  M RFM_Group  RFM_Score  \\\n",
       "CustomerID                                                               \n",
       "12346.0         325          1  77183.60  4  4  1       441          9   \n",
       "12347.0           2        182   4310.00  1  1  1       111          3   \n",
       "12348.0          75         31   1797.24  3  3  1       331          7   \n",
       "12349.0          18         73   1757.55  2  2  1       221          5   \n",
       "12350.0         310         17    334.40  4  4  3       443         11   \n",
       "\n",
       "           RFM_Loyalty_Level  Recency_log  Frequency_log  Monetary_log  \\\n",
       "CustomerID                                                               \n",
       "12346.0               Silver     5.783825       0.000000     11.253942   \n",
       "12347.0            Platinaum     0.693147       5.204007      8.368693   \n",
       "12348.0                 Gold     4.317488       3.433987      7.494007   \n",
       "12349.0            Platinaum     2.890372       4.290459      7.471676   \n",
       "12350.0                Bronz     5.736572       2.833213      5.812338   \n",
       "\n",
       "            Cluster_based_rec_mon  Cluster_based_on_freq_mon  \\\n",
       "CustomerID                                                     \n",
       "12346.0                         1                          1   \n",
       "12347.0                         1                          1   \n",
       "12348.0                         1                          1   \n",
       "12349.0                         1                          1   \n",
       "12350.0                         0                          0   \n",
       "\n",
       "            Cluster_based_on_freq_mon_rec  \n",
       "CustomerID                                 \n",
       "12346.0                                 0  \n",
       "12347.0                                 1  \n",
       "12348.0                                 0  \n",
       "12349.0                                 1  \n",
       "12350.0                                 0  "
      ]
     },
     "execution_count": 98,
     "metadata": {},
     "output_type": "execute_result"
    }
   ],
   "source": [
    "#Find the clusters for the observation given in the dataset\n",
    "rfm_dataframe['Cluster_based_on_freq_mon_rec'] = kmeans_freq_mon_rec.labels_\n",
    "rfm_dataframe.head()"
   ]
  },
  {
   "cell_type": "code",
   "execution_count": 99,
   "id": "49250c56",
   "metadata": {},
   "outputs": [
    {
     "data": {
      "text/html": [
       "<div>\n",
       "<style scoped>\n",
       "    .dataframe tbody tr th:only-of-type {\n",
       "        vertical-align: middle;\n",
       "    }\n",
       "\n",
       "    .dataframe tbody tr th {\n",
       "        vertical-align: top;\n",
       "    }\n",
       "\n",
       "    .dataframe thead th {\n",
       "        text-align: right;\n",
       "    }\n",
       "</style>\n",
       "<table border=\"1\" class=\"dataframe\">\n",
       "  <thead>\n",
       "    <tr style=\"text-align: right;\">\n",
       "      <th></th>\n",
       "      <th>0</th>\n",
       "      <th>1</th>\n",
       "      <th>2</th>\n",
       "    </tr>\n",
       "  </thead>\n",
       "  <tbody>\n",
       "    <tr>\n",
       "      <th>0</th>\n",
       "      <td>0.553274</td>\n",
       "      <td>-0.644673</td>\n",
       "      <td>-0.645914</td>\n",
       "    </tr>\n",
       "    <tr>\n",
       "      <th>1</th>\n",
       "      <td>-0.685808</td>\n",
       "      <td>0.799101</td>\n",
       "      <td>0.800639</td>\n",
       "    </tr>\n",
       "  </tbody>\n",
       "</table>\n",
       "</div>"
      ],
      "text/plain": [
       "          0         1         2\n",
       "0  0.553274 -0.644673 -0.645914\n",
       "1 -0.685808  0.799101  0.800639"
      ]
     },
     "execution_count": 99,
     "metadata": {},
     "output_type": "execute_result"
    }
   ],
   "source": [
    "# Centers of the clusters(coordinates)\n",
    "centers = pd.DataFrame(kmeans_freq_mon_rec.cluster_centers_)\n",
    "centers"
   ]
  },
  {
   "cell_type": "code",
   "execution_count": 100,
   "id": "64205e1d",
   "metadata": {},
   "outputs": [
    {
     "data": {
      "image/png": "[encoded data removed]",
      "text/plain": [
       "<Figure size 720x432 with 1 Axes>"
      ]
     },
     "metadata": {
      "needs_background": "light"
     },
     "output_type": "display_data"
    }
   ],
   "source": [
    "# ploting visualizing the clusters\n",
    "plt.figure(figsize=(10,6))\n",
    "plt.title('customer segmentation based on Recency, frequency and Monetary')\n",
    "plt.scatter(X[:, 0], X[:, 1], c=y_kmeans, s=50)\n",
    "\n",
    "centers = kmeans_freq_mon_rec.cluster_centers_\n",
    "plt.scatter(centers[:, 0], centers[:, 1], c='red', s=300, alpha=0.8);"
   ]
  },
  {
   "cell_type": "markdown",
   "id": "ee6855df",
   "metadata": {},
   "source": [
    "### conclusion "
   ]
  },
  {
   "cell_type": "markdown",
   "id": "7bfcdf61",
   "metadata": {},
   "source": [
    "* Here in this project kmeans clustering unsupervised machine learining algorithm is applied becuase we needed to segment customers on the basis of their purchasing behaviour and after appying kMeans clustering based on the RFM model analysis it came out with the 2 optimal clusters.\n",
    "* for these outcomes we have two different clusters(categories of customers)\n",
    "* As the data is divided by countries and most of the customers are only from Europe, This can be one of the reason that we came out with 2 types of puschasing behaviour "
   ]
  },
  {
   "cell_type": "markdown",
   "id": "73b434fb",
   "metadata": {},
   "source": [
    "future possibilities :-\n",
    "    we can apply different unsupervised techniques here including hierarchical clutering, DBSCAN"
   ]
  },
  {
   "cell_type": "markdown",
   "id": "2d2da31d",
   "metadata": {},
   "source": [
    "### refrences\n",
    "* Online-Retail-Customer-Segmentation-Clustering-/Online_Retail_Customer_Segmentation_Capstone_Project.ipynb\n",
    "* https://towardsdatascience.com/customer-segmentation-k-means-clustering-a-b-testing-bd26a94462dd\n"
   ]
  },
  {
   "cell_type": "code",
   "execution_count": null,
   "id": "b873f1d8",
   "metadata": {},
   "outputs": [],
   "source": []
  },
  {
   "cell_type": "code",
   "execution_count": null,
   "id": "f58f1377",
   "metadata": {},
   "outputs": [],
   "source": []
  }
 ],
 "metadata": {
  "kernelspec": {
   "display_name": "Python 3 (ipykernel)",
   "language": "python",
   "name": "python3"
  },
  "language_info": {
   "codemirror_mode": {
    "name": "ipython",
    "version": 3
   },
   "file_extension": ".py",
   "mimetype": "text/x-python",
   "name": "python",
   "nbconvert_exporter": "python",
   "pygments_lexer": "ipython3",
   "version": "3.9.12"
  }
 },
 "nbformat": 4,
 "nbformat_minor": 5
}
